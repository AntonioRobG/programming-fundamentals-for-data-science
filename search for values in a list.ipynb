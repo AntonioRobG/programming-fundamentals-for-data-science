{
 "cells": [
  {
   "cell_type": "code",
   "execution_count": null,
   "id": "23a44152-c231-4fb9-9e7d-1c9392066813",
   "metadata": {},
   "outputs": [],
   "source": [
    "\"\"\" \n",
    "Create a list containing 67, 12, 46, 43 and 13, then use list method .index() to search for a 43 and 44. \n",
    "Ensure that no ValueError occurs when searching for 44.\n",
    "\"\"\" "
   ]
  },
  {
   "cell_type": "code",
   "execution_count": null,
   "id": "f266cb07-438e-428a-a6a6-72c4b8a57ecc",
   "metadata": {},
   "outputs": [],
   "source": [
    "mylist = [67, 12, 46, 43, 13]\n",
    "if 43 in mylist: print(mylist.index(43))\n",
    "if 44 in mylist: print(mylist.index(44))"
   ]
  }
 ],
 "metadata": {
  "kernelspec": {
   "display_name": "Python 3 (ipykernel)",
   "language": "python",
   "name": "python3"
  },
  "language_info": {
   "codemirror_mode": {
    "name": "ipython",
    "version": 3
   },
   "file_extension": ".py",
   "mimetype": "text/x-python",
   "name": "python",
   "nbconvert_exporter": "python",
   "pygments_lexer": "ipython3",
   "version": "3.8.11"
  },
  "widgets": {
   "application/vnd.jupyter.widget-state+json": {
    "state": {},
    "version_major": 2,
    "version_minor": 0
   }
  }
 },
 "nbformat": 4,
 "nbformat_minor": 5
}
