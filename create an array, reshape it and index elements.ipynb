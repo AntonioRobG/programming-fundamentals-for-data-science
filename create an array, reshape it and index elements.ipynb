{
 "cells": [
  {
   "cell_type": "code",
   "execution_count": null,
   "id": "a28782b6-1147-449b-938c-19dfa375677c",
   "metadata": {},
   "outputs": [],
   "source": [
    "\"\"\"\n",
    "Create an array containing the values 1-15, reshape it into a 3-by-5 array, then use indexing and slicing techniques to:\n",
    "a)\tSelect row 2.\n",
    "b)\tSelect column 5.\n",
    "c)\tSelect rows 0 and 1.\n",
    "d)\tSelect columns 2-4.\n",
    "e)\tSelect the element that is in row 1 and column 4.\n",
    "f)\tSelect all elements from rows 1 and 2 that are in columns 0, 2 and 4.\n",
    "\"\"\" "
   ]
  },
  {
   "cell_type": "code",
   "execution_count": null,
   "id": "a45d1db2-cc1f-457e-b874-fdc78fadd9de",
   "metadata": {},
   "outputs": [],
   "source": [
    "import numpy as np\n",
    "import pandas as pd\n",
    "a = np.linspace(1,15,num=15,dtype=int).reshape(3,5)\n",
    "a\n",
    "a[2,]\n",
    "a[:,4]\n",
    "a[0:2]\n",
    "a[:,[1,3]]\n",
    "a[0,3]\n",
    "a[0:2,[0,2,4]]"
   ]
  }
 ],
 "metadata": {
  "kernelspec": {
   "display_name": "Python 3 (ipykernel)",
   "language": "python",
   "name": "python3"
  },
  "language_info": {
   "codemirror_mode": {
    "name": "ipython",
    "version": 3
   },
   "file_extension": ".py",
   "mimetype": "text/x-python",
   "name": "python",
   "nbconvert_exporter": "python",
   "pygments_lexer": "ipython3",
   "version": "3.8.11"
  },
  "widgets": {
   "application/vnd.jupyter.widget-state+json": {
    "state": {},
    "version_major": 2,
    "version_minor": 0
   }
  }
 },
 "nbformat": 4,
 "nbformat_minor": 5
}
