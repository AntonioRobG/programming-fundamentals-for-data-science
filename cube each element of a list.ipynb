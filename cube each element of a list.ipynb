{
 "cells": [
  {
   "cell_type": "code",
   "execution_count": null,
   "id": "8775e997-b415-4dd6-999c-d293d24ac900",
   "metadata": {},
   "outputs": [],
   "source": [
    "\"\"\"\n",
    "Create a function cube_list that cubes each element of a list. \n",
    "Call the function with the list numbers containing 1 through 10.\n",
    "\"\"\""
   ]
  },
  {
   "cell_type": "code",
   "execution_count": null,
   "id": "3db353b0-7694-4c24-bf72-f72010875732",
   "metadata": {
    "tags": []
   },
   "outputs": [],
   "source": [
    "def cube_list(accepted_list):\n",
    "    accepted_list = [i**3 for i in accepted_list]\n",
    "    print(accepted_list)\n",
    "numbers = list(range(1,11))\n",
    "cube_list(numbers)"
   ]
  }
 ],
 "metadata": {
  "kernelspec": {
   "display_name": "Python 3 (ipykernel)",
   "language": "python",
   "name": "python3"
  },
  "language_info": {
   "codemirror_mode": {
    "name": "ipython",
    "version": 3
   },
   "file_extension": ".py",
   "mimetype": "text/x-python",
   "name": "python",
   "nbconvert_exporter": "python",
   "pygments_lexer": "ipython3",
   "version": "3.8.11"
  },
  "widgets": {
   "application/vnd.jupyter.widget-state+json": {
    "state": {},
    "version_major": 2,
    "version_minor": 0
   }
  }
 },
 "nbformat": 4,
 "nbformat_minor": 5
}
