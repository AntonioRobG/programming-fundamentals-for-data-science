{
 "cells": [
  {
   "cell_type": "code",
   "execution_count": null,
   "id": "7d61f3e8-1b8b-476c-aac1-735b4af8264b",
   "metadata": {},
   "outputs": [],
   "source": [
    "\"\"\"\n",
    "Write a function called seconds_since_midnight that returns the number of seconds since midnight. \n",
    "The function should receive three integers representing the current time of day. \n",
    "Assume that the hour is a value from 0 (midnight) through 23 (11 PM) and that the minute and second are values from 0 to 59. \n",
    "Test your function with actual times. For example, if you call the function for 13:30:45 by passing 13, 30 and 45, the function should return 48645.\n",
    "\"\"\""
   ]
  },
  {
   "cell_type": "code",
   "execution_count": null,
   "id": "5009d394-26db-4437-8def-65cacf543705",
   "metadata": {
    "tags": []
   },
   "outputs": [],
   "source": [
    "def seconds_since_midnight(hour,minute,second):\n",
    "    tot_seconds = (hour*60*60) + (minute*60) + second\n",
    "    print(f\"It's been {tot_seconds} seconds sicne midnight.\")\n",
    "    \n",
    "time_now = input(\"Enter hour minute and second separated by space: \").split()\n",
    "hour,minute,second = [int(i) for i in time_now]\n",
    "seconds_since_midnight(hour,minute,second)"
   ]
  }
 ],
 "metadata": {
  "kernelspec": {
   "display_name": "Python 3 (ipykernel)",
   "language": "python",
   "name": "python3"
  },
  "language_info": {
   "codemirror_mode": {
    "name": "ipython",
    "version": 3
   },
   "file_extension": ".py",
   "mimetype": "text/x-python",
   "name": "python",
   "nbconvert_exporter": "python",
   "pygments_lexer": "ipython3",
   "version": "3.8.11"
  },
  "widgets": {
   "application/vnd.jupyter.widget-state+json": {
    "state": {},
    "version_major": 2,
    "version_minor": 0
   }
  }
 },
 "nbformat": 4,
 "nbformat_minor": 5
}
