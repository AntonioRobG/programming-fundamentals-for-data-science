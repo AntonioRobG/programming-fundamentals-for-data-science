{
 "cells": [
  {
   "cell_type": "code",
   "execution_count": null,
   "id": "0dbf88b4-fd74-4cad-9e33-7bca1df49db5",
   "metadata": {},
   "outputs": [],
   "source": [
    "\"\"\"\n",
    "Investigate built-in function round\n",
    "then use it to round the float value 13.56449 to the nearest integer, tenths, hundredths and thousandths positions.\n",
    "\"\"\""
   ]
  },
  {
   "cell_type": "code",
   "execution_count": null,
   "id": "b2a3e297-d0f8-49ca-b41b-7e11105ee6f6",
   "metadata": {
    "tags": []
   },
   "outputs": [],
   "source": [
    "print(round(13.56449))\n",
    "print(round(13.56449,1))\n",
    "print(round(13.56449,2))\n",
    "print(round(13.56449,3))"
   ]
  }
 ],
 "metadata": {
  "kernelspec": {
   "display_name": "Python 3 (ipykernel)",
   "language": "python",
   "name": "python3"
  },
  "language_info": {
   "codemirror_mode": {
    "name": "ipython",
    "version": 3
   },
   "file_extension": ".py",
   "mimetype": "text/x-python",
   "name": "python",
   "nbconvert_exporter": "python",
   "pygments_lexer": "ipython3",
   "version": "3.8.11"
  },
  "widgets": {
   "application/vnd.jupyter.widget-state+json": {
    "state": {},
    "version_major": 2,
    "version_minor": 0
   }
  }
 },
 "nbformat": 4,
 "nbformat_minor": 5
}
