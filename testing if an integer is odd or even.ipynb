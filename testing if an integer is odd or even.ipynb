{
 "cells": [
  {
   "cell_type": "code",
   "execution_count": null,
   "id": "42e934b3-d82e-4a6c-b48f-bb10b3b33678",
   "metadata": {},
   "outputs": [],
   "source": [
    "\"\"\"\n",
    "Use if statements to determine whether an integer is odd or even.\n",
    "\"\"\""
   ]
  },
  {
   "cell_type": "code",
   "execution_count": null,
   "id": "077d224b-85ef-4990-92b0-2068b83a27dd",
   "metadata": {
    "tags": []
   },
   "outputs": [],
   "source": [
    "while True:\n",
    "    try:\n",
    "        integer = int(input(\"Please input an integer: \"))\n",
    "    except ValueError: \n",
    "        print(\"Not an integer.\")\n",
    "    else: \n",
    "        break\n",
    "if integer % 2 == 0:\n",
    "    print(\"This integer is even.\")\n",
    "else:\n",
    "    print(\"This integer is odd.\")"
   ]
  }
 ],
 "metadata": {
  "kernelspec": {
   "display_name": "Python 3 (ipykernel)",
   "language": "python",
   "name": "python3"
  },
  "language_info": {
   "codemirror_mode": {
    "name": "ipython",
    "version": 3
   },
   "file_extension": ".py",
   "mimetype": "text/x-python",
   "name": "python",
   "nbconvert_exporter": "python",
   "pygments_lexer": "ipython3",
   "version": "3.8.11"
  },
  "widgets": {
   "application/vnd.jupyter.widget-state+json": {
    "state": {},
    "version_major": 2,
    "version_minor": 0
   }
  }
 },
 "nbformat": 4,
 "nbformat_minor": 5
}
