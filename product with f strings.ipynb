{
 "cells": [
  {
   "cell_type": "code",
   "execution_count": null,
   "id": "72506eae-a7fb-4d64-9e24-ed6705ef909d",
   "metadata": {},
   "outputs": [],
   "source": [
    "\"\"\"\n",
    "Display an f-string in which you insert the values of the variables (7) and (5) and their product. \n",
    "The displayed string should be 7 times 5 is 35\n",
    "\"\"\""
   ]
  },
  {
   "cell_type": "code",
   "execution_count": null,
   "id": "ee303618-656c-4be7-b1d1-072d74682358",
   "metadata": {
    "tags": []
   },
   "outputs": [],
   "source": [
    "number1 = int(input(\"Enter integer 1\"))\n",
    "number2 = int(input(\"Enter integer 2\"))\n",
    "print(f\"{number2} times {number1} is: {number2*number1}\")"
   ]
  }
 ],
 "metadata": {
  "kernelspec": {
   "display_name": "Python 3 (ipykernel)",
   "language": "python",
   "name": "python3"
  },
  "language_info": {
   "codemirror_mode": {
    "name": "ipython",
    "version": 3
   },
   "file_extension": ".py",
   "mimetype": "text/x-python",
   "name": "python",
   "nbconvert_exporter": "python",
   "pygments_lexer": "ipython3",
   "version": "3.8.11"
  },
  "widgets": {
   "application/vnd.jupyter.widget-state+json": {
    "state": {},
    "version_major": 2,
    "version_minor": 0
   }
  }
 },
 "nbformat": 4,
 "nbformat_minor": 5
}
