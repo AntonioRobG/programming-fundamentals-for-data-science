{
 "cells": [
  {
   "cell_type": "code",
   "execution_count": null,
   "id": "b63c2bca-3d44-4160-8ce7-225de1c1af6e",
   "metadata": {},
   "outputs": [],
   "source": [
    "\"\"\" \n",
    "Create a function that receives a list and returns a list containing only the unique values in sorted order. \n",
    "Test your function with a list of numbers and a list of strings.\n",
    "\"\"\" "
   ]
  },
  {
   "cell_type": "code",
   "execution_count": null,
   "id": "817d30c5-31fa-42a2-b7d0-a87af965b028",
   "metadata": {},
   "outputs": [],
   "source": [
    "c = [1, 1, 22,66,66,4,556,4,4]\n",
    "def uniquify_lists(mylist):\n",
    "    q = list(set(mylist))\n",
    "    q.sort()\n",
    "    return q\n",
    "uniquify_lists(c)"
   ]
  }
 ],
 "metadata": {
  "kernelspec": {
   "display_name": "Python 3 (ipykernel)",
   "language": "python",
   "name": "python3"
  },
  "language_info": {
   "codemirror_mode": {
    "name": "ipython",
    "version": 3
   },
   "file_extension": ".py",
   "mimetype": "text/x-python",
   "name": "python",
   "nbconvert_exporter": "python",
   "pygments_lexer": "ipython3",
   "version": "3.8.11"
  },
  "widgets": {
   "application/vnd.jupyter.widget-state+json": {
    "state": {},
    "version_major": 2,
    "version_minor": 0
   }
  }
 },
 "nbformat": 4,
 "nbformat_minor": 5
}
