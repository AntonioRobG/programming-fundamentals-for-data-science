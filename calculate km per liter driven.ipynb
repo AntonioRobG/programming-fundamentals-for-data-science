{
 "cells": [
  {
   "cell_type": "code",
   "execution_count": null,
   "id": "19877ba6-a468-4d1a-891c-9dfe000d8afd",
   "metadata": {},
   "outputs": [],
   "source": [
    "\"\"\"\n",
    "Drivers are concerned with the mileage obtained by their automobiles. \n",
    "One driver has kept track of several tankfuls of gasoline by recording km driven and liters used for each tankful. \n",
    "Develop a sentinel-controlled-repetition script that prompts the user to input the km driven and liters used for each tankful. \n",
    "The script should calculate and display the km per liter obtained for each tankful. \n",
    "After processing all input information, the script should calculate and display the combined km per liter obtained for all tankfuls \n",
    "(that is, total km driven divided by total liters used).\n",
    "\"\"\""
   ]
  },
  {
   "cell_type": "code",
   "execution_count": null,
   "id": "53990fe7-03e3-4d1b-a896-ab57686e1966",
   "metadata": {
    "tags": []
   },
   "outputs": [],
   "source": [
    "liters_used = 0\n",
    "total_liters = 0\n",
    "total_km = 0\n",
    "while True:\n",
    "    while True:\n",
    "        try:\n",
    "            liters_used = float(input(\"Enter the liters used (-1 to stop): \"))\n",
    "        except ValueError: \"That is not a number\"\n",
    "        else: break\n",
    "    while liters_used != -1:\n",
    "        try:\n",
    "            km_driven = float(input(\"Enter the kilometers driven: \"))\n",
    "        except ValueError: \"That is not a number\"\n",
    "        else: break\n",
    "    km_per_liter = km_driven/liters_used\n",
    "    if liters_used != -1:\n",
    "        print(f\"The km/lt for this tank was: {km_per_liter}\")\n",
    "        total_liters += liters_used\n",
    "        total_km += km_driven\n",
    "    else:\n",
    "        break\n",
    "average = total_km/total_liters\n",
    "print(f\"The overall average km/lt was: {average}\")"
   ]
  }
 ],
 "metadata": {
  "kernelspec": {
   "display_name": "Python 3 (ipykernel)",
   "language": "python",
   "name": "python3"
  },
  "language_info": {
   "codemirror_mode": {
    "name": "ipython",
    "version": 3
   },
   "file_extension": ".py",
   "mimetype": "text/x-python",
   "name": "python",
   "nbconvert_exporter": "python",
   "pygments_lexer": "ipython3",
   "version": "3.8.11"
  },
  "widgets": {
   "application/vnd.jupyter.widget-state+json": {
    "state": {},
    "version_major": 2,
    "version_minor": 0
   }
  }
 },
 "nbformat": 4,
 "nbformat_minor": 5
}
