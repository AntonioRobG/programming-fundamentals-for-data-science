{
 "cells": [
  {
   "cell_type": "code",
   "execution_count": null,
   "id": "88d51844-f576-4344-bf2b-33697eb41b2e",
   "metadata": {},
   "outputs": [],
   "source": [
    "\"\"\"\n",
    "we expect a 7% return in the stock market.\n",
    "you begin with $ 1000 \n",
    "calculate and display how much money you'll have after 10, 20 and 30 years. \n",
    "Use the following formula for determining these amounts:\n",
    "a = p( 1 + r)^n\n",
    "p is the original amount invested\n",
    "r is the annual rate of return\n",
    "n is the number of years\n",
    "a is the amount on deposit at the end of the »th year\n",
    "\"\"\""
   ]
  },
  {
   "cell_type": "code",
   "execution_count": null,
   "id": "e8e20fd0-4e0a-4878-a094-4ec25eae68bd",
   "metadata": {
    "tags": []
   },
   "outputs": [],
   "source": [
    "def money_after_years(years,annual_rate_of_return,starting_investment):\n",
    "    final_rate_of_return = 1+annual_rate_of_return\n",
    "    rate_for_tot_years = final_rate_of_return**years\n",
    "    final_deposit = starting_investment*rate_for_tot_years\n",
    "    return final_deposit\n",
    "print(f\"{money_after_years(10,0.07,1000):.2f}\")\n",
    "print(f\"{money_after_years(20,0.07,1000):.2f}\")\n",
    "print(f\"{money_after_years(30,0.07,1000):.2f}\")"
   ]
  }
 ],
 "metadata": {
  "kernelspec": {
   "display_name": "Python 3 (ipykernel)",
   "language": "python",
   "name": "python3"
  },
  "language_info": {
   "codemirror_mode": {
    "name": "ipython",
    "version": 3
   },
   "file_extension": ".py",
   "mimetype": "text/x-python",
   "name": "python",
   "nbconvert_exporter": "python",
   "pygments_lexer": "ipython3",
   "version": "3.8.11"
  },
  "widgets": {
   "application/vnd.jupyter.widget-state+json": {
    "state": {},
    "version_major": 2,
    "version_minor": 0
   }
  }
 },
 "nbformat": 4,
 "nbformat_minor": 5
}
