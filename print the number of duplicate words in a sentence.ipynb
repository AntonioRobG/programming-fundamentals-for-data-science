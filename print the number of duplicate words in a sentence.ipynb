{
 "cells": [
  {
   "cell_type": "code",
   "execution_count": null,
   "id": "0a674796-1e01-443d-b496-2763dc4e657f",
   "metadata": {},
   "outputs": [],
   "source": [
    "\"\"\"\n",
    "Write a script that uses a dictionary to determine and print the number of duplicate words in a sentence. \n",
    "Treat uppercase and lowercase letters the same and assume there is no punctuation in the sentence.\n",
    "\"\"\" "
   ]
  },
  {
   "cell_type": "code",
   "execution_count": null,
   "id": "f718384f-0251-4682-9390-c0793441bcf6",
   "metadata": {},
   "outputs": [],
   "source": [
    "from collections import Counter\n",
    "def word_duplicates(mystring):\n",
    "    mydict = Counter(mystring.lower().split())\n",
    "    for element,occurrency in mydict.items():\n",
    "        if element in [\"!\",\"?\",\".\"]:\n",
    "            continue\n",
    "        else:\n",
    "            print(element,occurrency)\n",
    "\n",
    "myLongString = ('this is sample text with several words ! ' \n",
    "                'this is more Sample text with some different words')\n",
    "word_duplicates(myLongString)"
   ]
  }
 ],
 "metadata": {
  "kernelspec": {
   "display_name": "Python 3 (ipykernel)",
   "language": "python",
   "name": "python3"
  },
  "language_info": {
   "codemirror_mode": {
    "name": "ipython",
    "version": 3
   },
   "file_extension": ".py",
   "mimetype": "text/x-python",
   "name": "python",
   "nbconvert_exporter": "python",
   "pygments_lexer": "ipython3",
   "version": "3.8.11"
  },
  "widgets": {
   "application/vnd.jupyter.widget-state+json": {
    "state": {},
    "version_major": 2,
    "version_minor": 0
   }
  }
 },
 "nbformat": 4,
 "nbformat_minor": 5
}
