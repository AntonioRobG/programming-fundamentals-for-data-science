{
 "cells": [
  {
   "cell_type": "code",
   "execution_count": null,
   "id": "7ebd307d-d21e-402c-9750-d0214b695316",
   "metadata": {},
   "outputs": [],
   "source": [
    "\"\"\" \n",
    "Create a one-dimensional array from a list comprehension that produces the even integers from 2 through 20.\n",
    "\"\"\" "
   ]
  },
  {
   "cell_type": "code",
   "execution_count": null,
   "id": "5702b8c2-be48-4f50-b865-b6c70ded9520",
   "metadata": {},
   "outputs": [],
   "source": [
    "import numpy as np\n",
    "np.array([i for i in range(2,21) if i % 2 == 0])"
   ]
  }
 ],
 "metadata": {
  "kernelspec": {
   "display_name": "Python 3 (ipykernel)",
   "language": "python",
   "name": "python3"
  },
  "language_info": {
   "codemirror_mode": {
    "name": "ipython",
    "version": 3
   },
   "file_extension": ".py",
   "mimetype": "text/x-python",
   "name": "python",
   "nbconvert_exporter": "python",
   "pygments_lexer": "ipython3",
   "version": "3.8.11"
  },
  "widgets": {
   "application/vnd.jupyter.widget-state+json": {
    "state": {},
    "version_major": 2,
    "version_minor": 0
   }
  }
 },
 "nbformat": 4,
 "nbformat_minor": 5
}
