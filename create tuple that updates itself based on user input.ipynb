{
 "cells": [
  {
   "cell_type": "code",
   "execution_count": null,
   "id": "2408d992-3959-4f20-a689-2c651db72924",
   "metadata": {},
   "outputs": [],
   "source": [
    "\"\"\"\n",
    "Create a function that randomly generates and returns a tuple of two positive one-digit integers. \n",
    "Use that function’s result in your script to prompt the user with a question, such as\n",
    "How much Is 6 times 7?\n",
    "For a correct answer, display the message \"Very good!\" and ask another multiplication question. \n",
    "For an incorrect answer, display the message \"No. Please try again.\" and let the student try the same question repeatedly\n",
    "\"\"\""
   ]
  },
  {
   "cell_type": "code",
   "execution_count": null,
   "id": "4c361165-b0cb-42fa-b605-69d30cde88f8",
   "metadata": {
    "tags": []
   },
   "outputs": [],
   "source": [
    "import random\n",
    "def tuple_generator():\n",
    "    math_tuple = (random.randrange(1,10), random.randrange(1,10))\n",
    "    return math_tuple\n",
    "\n",
    "while True:\n",
    "    correct_answer = False\n",
    "    first_value,second_value = tuple_generator()\n",
    "    product_value = first_value*second_value\n",
    "    while correct_answer == False:\n",
    "        answer = int(input(f\"How much is {first_value} times {second_value}?\"))\n",
    "        if answer == product_value:\n",
    "            print(\"Very good!\")\n",
    "            correct_answer = True\n",
    "        else:\n",
    "            print(\"No. Please try again.\")\n",
    "            correct_answer = False"
   ]
  }
 ],
 "metadata": {
  "kernelspec": {
   "display_name": "Python 3 (ipykernel)",
   "language": "python",
   "name": "python3"
  },
  "language_info": {
   "codemirror_mode": {
    "name": "ipython",
    "version": 3
   },
   "file_extension": ".py",
   "mimetype": "text/x-python",
   "name": "python",
   "nbconvert_exporter": "python",
   "pygments_lexer": "ipython3",
   "version": "3.8.11"
  },
  "widgets": {
   "application/vnd.jupyter.widget-state+json": {
    "state": {},
    "version_major": 2,
    "version_minor": 0
   }
  }
 },
 "nbformat": 4,
 "nbformat_minor": 5
}
