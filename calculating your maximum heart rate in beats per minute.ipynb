{
 "cells": [
  {
   "cell_type": "code",
   "execution_count": null,
   "id": "15365b31-8ca2-4788-b042-f3f9fd6d6abc",
   "metadata": {},
   "outputs": [],
   "source": [
    "\"\"\"\n",
    "the formula for calculating your maximum heart rate in beats per minute is 220 minus your age in years. \n",
    "Your target heart rate is 50-85% of your maximum heart rate. \n",
    "Write a script that prompts for and inputs the user’s age and calculates and displays the user’s maximum heart rate \n",
    "and the range of the user’s target heart rate.\n",
    "\"\"\""
   ]
  },
  {
   "cell_type": "code",
   "execution_count": null,
   "id": "3cab679c-f929-4fa3-954e-a9201e58ee46",
   "metadata": {
    "tags": []
   },
   "outputs": [],
   "source": [
    "#220 : 100 = x : 50/85   x= 220*50/85 / 100\n",
    "age = int(input(\"Enter your age\"))\n",
    "maximum_heart_rate = 220 - age\n",
    "minimum_hr = (maximum_heart_rate*50)/100\n",
    "higher_hr = (maximum_heart_rate*85)/100\n",
    "print(f\"Your maximum heart rate is {maximum_heart_rate}, it should be no slower than {minimum_hr} but no higher than {higher_hr}\")"
   ]
  }
 ],
 "metadata": {
  "kernelspec": {
   "display_name": "Python 3 (ipykernel)",
   "language": "python",
   "name": "python3"
  },
  "language_info": {
   "codemirror_mode": {
    "name": "ipython",
    "version": 3
   },
   "file_extension": ".py",
   "mimetype": "text/x-python",
   "name": "python",
   "nbconvert_exporter": "python",
   "pygments_lexer": "ipython3",
   "version": "3.8.11"
  },
  "widgets": {
   "application/vnd.jupyter.widget-state+json": {
    "state": {},
    "version_major": 2,
    "version_minor": 0
   }
  }
 },
 "nbformat": 4,
 "nbformat_minor": 5
}
