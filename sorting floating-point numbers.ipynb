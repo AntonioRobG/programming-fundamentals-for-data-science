{
 "cells": [
  {
   "cell_type": "code",
   "execution_count": null,
   "id": "4f02fcf2-0b8f-4b9b-b715-a6d7615fd8de",
   "metadata": {},
   "outputs": [],
   "source": [
    "\"\"\"\n",
    "input three different floating-point numbers. \n",
    "Display the numbers in increasing order\n",
    "run it on all six possible orderings of input of the numbers. \n",
    "Does your script work with duplicates?\n",
    "\"\"\""
   ]
  },
  {
   "cell_type": "code",
   "execution_count": null,
   "id": "6ad673a5-f38c-43b7-b1e5-8bd86b57c2ee",
   "metadata": {
    "tags": []
   },
   "outputs": [],
   "source": [
    "list1 = []\n",
    "list1.append(int(input(\"enter first\")))\n",
    "list1.append(int(input(\"enter second\")))\n",
    "list1.append(int(input(\"enter third\")))\n",
    "list1.append(int(input(\"enter fourth\")))\n",
    "list1.append(int(input(\"enter fifth\")))\n",
    "list1.sort()\n",
    "list1"
   ]
  }
 ],
 "metadata": {
  "kernelspec": {
   "display_name": "Python 3 (ipykernel)",
   "language": "python",
   "name": "python3"
  },
  "language_info": {
   "codemirror_mode": {
    "name": "ipython",
    "version": 3
   },
   "file_extension": ".py",
   "mimetype": "text/x-python",
   "name": "python",
   "nbconvert_exporter": "python",
   "pygments_lexer": "ipython3",
   "version": "3.8.11"
  },
  "widgets": {
   "application/vnd.jupyter.widget-state+json": {
    "state": {},
    "version_major": 2,
    "version_minor": 0
   }
  }
 },
 "nbformat": 4,
 "nbformat_minor": 5
}
