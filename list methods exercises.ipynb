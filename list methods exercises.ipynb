{
 "cells": [
  {
   "cell_type": "code",
   "execution_count": null,
   "id": "5bd00592-9291-43ec-84a2-572ea502da8d",
   "metadata": {},
   "outputs": [],
   "source": [
    "\"\"\"\n",
    "Create a list called rainbow containing ’green’, ’orange’ and ’violet’. \n",
    "Perform the following operations consecutively using list methods:\n",
    "a)\tDetermine the index of 'violet', then use it to insert ’red' before 'violet'.\n",
    "b)\tAppend 'yellow' to the end of the list.\n",
    "c)\tReverse the list’s elements.\n",
    "d)\tRemove the element 'orange'.\n",
    "\"\"\""
   ]
  },
  {
   "cell_type": "code",
   "execution_count": null,
   "id": "8a266904-0239-4d97-b2f8-da92827b9adf",
   "metadata": {
    "tags": []
   },
   "outputs": [],
   "source": [
    "rainbow = [\"Green\",\"Orange\",\"Violet\"]\n",
    "rainbow.insert(rainbow.index(\"Violet\"),\"Red\")\n",
    "print(rainbow)\n",
    "rainbow.append(\"Yellow\")\n",
    "print(rainbow)\n",
    "rainbow.reverse()\n",
    "print(rainbow)\n",
    "rainbow.remove(\"Orange\")\n",
    "print(rainbow)"
   ]
  }
 ],
 "metadata": {
  "kernelspec": {
   "display_name": "Python 3 (ipykernel)",
   "language": "python",
   "name": "python3"
  },
  "language_info": {
   "codemirror_mode": {
    "name": "ipython",
    "version": 3
   },
   "file_extension": ".py",
   "mimetype": "text/x-python",
   "name": "python",
   "nbconvert_exporter": "python",
   "pygments_lexer": "ipython3",
   "version": "3.8.11"
  },
  "widgets": {
   "application/vnd.jupyter.widget-state+json": {
    "state": {},
    "version_major": 2,
    "version_minor": 0
   }
  }
 },
 "nbformat": 4,
 "nbformat_minor": 5
}
