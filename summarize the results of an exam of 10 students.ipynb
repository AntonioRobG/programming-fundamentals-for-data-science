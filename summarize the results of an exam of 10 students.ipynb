{
 "cells": [
  {
   "cell_type": "code",
   "execution_count": null,
   "id": "7ced57b9-6365-4de5-8b98-bd74c73998af",
   "metadata": {},
   "outputs": [],
   "source": [
    "\"\"\"\n",
    "You have been asked to write a program to summarize the results of an exam of 10 students. \n",
    "Next to each name is written a 1 if the student passed the exam and a 2 if the student failed.\n",
    "1.\tInput each test result (i.e., a 1 or a 2). Display the message \"Enter result\" each time the program requests another test result.\n",
    "2.\tCount the number of test results of each type.\n",
    "3.\tDisplay a summary of the test results indicating the number of students who passed and the number of students who failed.\n",
    "4.\tIf more than eight students passed the exam, display “Bonus to instructor. ”\n",
    "\"\"\""
   ]
  },
  {
   "cell_type": "code",
   "execution_count": null,
   "id": "0876c5c8-d07a-45cd-a47e-a60595716058",
   "metadata": {
    "tags": []
   },
   "outputs": [],
   "source": [
    "result_dict = {}\n",
    "successes = 0\n",
    "for i in range(10):\n",
    "    result = (input(\"Enter result in the form 'name 1/2' : \")).split()\n",
    "    result_dict.update({result[0]:result[1]})\n",
    "for i in result_dict:\n",
    "    if result[1] == \"1\": successes += 1\n",
    "print(f\"Total passed:{successes}. Total failed:{10-successes}\")\n",
    "if successes > 8: print(\"Bonus to instructor\")"
   ]
  }
 ],
 "metadata": {
  "kernelspec": {
   "display_name": "Python 3 (ipykernel)",
   "language": "python",
   "name": "python3"
  },
  "language_info": {
   "codemirror_mode": {
    "name": "ipython",
    "version": 3
   },
   "file_extension": ".py",
   "mimetype": "text/x-python",
   "name": "python",
   "nbconvert_exporter": "python",
   "pygments_lexer": "ipython3",
   "version": "3.8.11"
  },
  "widgets": {
   "application/vnd.jupyter.widget-state+json": {
    "state": {},
    "version_major": 2,
    "version_minor": 0
   }
  }
 },
 "nbformat": 4,
 "nbformat_minor": 5
}
