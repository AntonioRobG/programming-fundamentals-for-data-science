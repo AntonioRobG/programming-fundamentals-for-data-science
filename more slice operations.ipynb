{
 "cells": [
  {
   "cell_type": "code",
   "execution_count": null,
   "id": "93aecb72-2ef0-46ae-b9cf-154e2fa88ed4",
   "metadata": {},
   "outputs": [],
   "source": [
    "\"\"\"\n",
    "Create a list called numbers containing the values from 1 through 15, then use slices to perform the following operations consecutively:\n",
    "a)\tSelect number’s even integers.\n",
    "b)\tReplace the elements at indices 5 through 9 with Os, then show the resulting list.\n",
    "c)\tKeep only the first five elements, then show the resulting list.\n",
    "d)\tDelete all the remaining elements by assigning to a slice. Show the resulting list.\n",
    "\"\"\""
   ]
  },
  {
   "cell_type": "code",
   "execution_count": null,
   "id": "3dcccdda-185b-4155-80db-ab6526e7952e",
   "metadata": {
    "tags": []
   },
   "outputs": [],
   "source": [
    "numbers = list(range(1,16))\n",
    "print(numbers[1:16:2])\n",
    "numbers[6:10] = [0]*5\n",
    "print(numbers)\n",
    "numbers[5:] = []\n",
    "print(numbers)\n",
    "numbers[:] = []\n",
    "numbers"
   ]
  }
 ],
 "metadata": {
  "kernelspec": {
   "display_name": "Python 3 (ipykernel)",
   "language": "python",
   "name": "python3"
  },
  "language_info": {
   "codemirror_mode": {
    "name": "ipython",
    "version": 3
   },
   "file_extension": ".py",
   "mimetype": "text/x-python",
   "name": "python",
   "nbconvert_exporter": "python",
   "pygments_lexer": "ipython3",
   "version": "3.8.11"
  },
  "widgets": {
   "application/vnd.jupyter.widget-state+json": {
    "state": {},
    "version_major": 2,
    "version_minor": 0
   }
  }
 },
 "nbformat": 4,
 "nbformat_minor": 5
}
