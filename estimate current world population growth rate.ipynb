{
 "cells": [
  {
   "cell_type": "code",
   "execution_count": null,
   "id": "43620030-cc64-4e72-b1dd-5c779abe82bd",
   "metadata": {},
   "outputs": [],
   "source": [
    "\"\"\"\n",
    "Get estimates for the current world population and its growth rate. \n",
    "Write a script that calculates world population growth each year for the next 100 years, \n",
    "using the simplifying assumption that the current growth rate will stay constant. \n",
    "Print the results in a table. The first column should display the year from 1 to 100. \n",
    "The second column should display the anticipated world population at the end of that year. \n",
    "The third column should display the numerical increase in the world population that would occur that year. \n",
    "Using your results, determine the years in which the population would be double and eventually quadruple what it is today.\n",
    "\"\"\""
   ]
  },
  {
   "cell_type": "code",
   "execution_count": null,
   "id": "49fa56b8-f854-4420-9291-d01ee89f9b88",
   "metadata": {
    "tags": []
   },
   "outputs": [],
   "source": [
    "import pandas as pd\n",
    "pop_today = 7_882_768_399\n",
    "pop_per_year = 80_736_300\n",
    "death_per_year = 33_895_097\n",
    "tot_pop_per_year = 80_736_300 - 33_895_097\n",
    "#senza dataframe\n",
    "for i in range(1,101):\n",
    "    print(f\"Year:{i}\\tNew pop: {tot_pop_per_year}\\tTotal pop: {pop_today+(tot_pop_per_year*i)}\")\n",
    "\n",
    "#con dataframe\n",
    "pop_dict = pd.DataFrame({\"New pop\":[tot_pop_per_year for i in range(101)],\n",
    "            \"Total pop\":[(pop_today+tot_pop_per_year*i) for i in range(101)]})\n",
    "pop_dict"
   ]
  }
 ],
 "metadata": {
  "kernelspec": {
   "display_name": "Python 3 (ipykernel)",
   "language": "python",
   "name": "python3"
  },
  "language_info": {
   "codemirror_mode": {
    "name": "ipython",
    "version": 3
   },
   "file_extension": ".py",
   "mimetype": "text/x-python",
   "name": "python",
   "nbconvert_exporter": "python",
   "pygments_lexer": "ipython3",
   "version": "3.8.11"
  },
  "widgets": {
   "application/vnd.jupyter.widget-state+json": {
    "state": {},
    "version_major": 2,
    "version_minor": 0
   }
  }
 },
 "nbformat": 4,
 "nbformat_minor": 5
}
