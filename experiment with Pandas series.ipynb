{
 "cells": [
  {
   "cell_type": "code",
   "execution_count": null,
   "id": "f562b293-adce-4db7-bec1-99a67ab9a9a5",
   "metadata": {},
   "outputs": [],
   "source": [
    "\"\"\"\n",
    "Perform the following tasks with pandas Series:\n",
    "a)\tCreate a Series from the list [7, 11, 13, 17].\n",
    "b)\tCreate a Series with five elements that are all 100.0.\n",
    "c)\tCreate a Series with 20 elements that are all random numbers in the range 0 to 100. \n",
    "Use method describe to produce the Series’ basic descriptive statistics.\n",
    "d)\tCreate a Series called temperatures of the floating-point values [98.6, 98.9, 100.2, 97.9]. \n",
    "Using the index keyword argument, specify the custom indices ['Julie','Charlie', 'Sam', 'Andrea']\n",
    "\"\"\""
   ]
  },
  {
   "cell_type": "code",
   "execution_count": null,
   "id": "ea9e4a96-bbe0-4e41-93c5-db2383a222b6",
   "metadata": {},
   "outputs": [],
   "source": [
    "import numpy as np\n",
    "import pandas as pd\n",
    "mySeries1 = pd.Series([7, 11, 13, 17])\n",
    "mySeries2 = pd.Series(100.0,range(6))\n",
    "mySeries3 = pd.Series(100.0,np.random.randint(0,100,20))\n",
    "temperatures = pd.Series([98.6, 98.9, 100.2, 97.9],index=['Julie','Charlie', 'Sam', 'Andrea'])\n",
    "mydict = \n",
    "mySeries1\n",
    "mySeries2\n",
    "mySeries3\n",
    "mySeries3.describe()\n",
    "temperatures"
   ]
  }
 ],
 "metadata": {
  "kernelspec": {
   "display_name": "Python 3 (ipykernel)",
   "language": "python",
   "name": "python3"
  },
  "language_info": {
   "codemirror_mode": {
    "name": "ipython",
    "version": 3
   },
   "file_extension": ".py",
   "mimetype": "text/x-python",
   "name": "python",
   "nbconvert_exporter": "python",
   "pygments_lexer": "ipython3",
   "version": "3.8.11"
  },
  "widgets": {
   "application/vnd.jupyter.widget-state+json": {
    "state": {},
    "version_major": 2,
    "version_minor": 0
   }
  }
 },
 "nbformat": 4,
 "nbformat_minor": 5
}
