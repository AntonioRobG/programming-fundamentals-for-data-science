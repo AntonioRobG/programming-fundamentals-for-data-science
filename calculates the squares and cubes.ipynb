{
 "cells": [
  {
   "cell_type": "code",
   "execution_count": null,
   "id": "96f0e4d7-7d4f-4ae9-be40-ff5ca8e2b4fc",
   "metadata": {},
   "outputs": [],
   "source": [
    "\"\"\"\n",
    "Write a script that calculates the squares and cubes of the numbers from 0 to 5. Print the resulting values in table format. \n",
    "Use the tab escape sequence to achieve the three-column output.\n",
    "\"\"\""
   ]
  },
  {
   "cell_type": "code",
   "execution_count": null,
   "id": "321c03b1-585c-4b9f-9660-49416610e59c",
   "metadata": {
    "tags": []
   },
   "outputs": [],
   "source": [
    "print(\"Number\\tSquare\\tCube\")\n",
    "for i in range(6):\n",
    "    print(f\"{i}\\t{i**2}\\t{i**3}\")"
   ]
  }
 ],
 "metadata": {
  "kernelspec": {
   "display_name": "Python 3 (ipykernel)",
   "language": "python",
   "name": "python3"
  },
  "language_info": {
   "codemirror_mode": {
    "name": "ipython",
    "version": 3
   },
   "file_extension": ".py",
   "mimetype": "text/x-python",
   "name": "python",
   "nbconvert_exporter": "python",
   "pygments_lexer": "ipython3",
   "version": "3.8.11"
  },
  "widgets": {
   "application/vnd.jupyter.widget-state+json": {
    "state": {},
    "version_major": 2,
    "version_minor": 0
   }
  }
 },
 "nbformat": 4,
 "nbformat_minor": 5
}
