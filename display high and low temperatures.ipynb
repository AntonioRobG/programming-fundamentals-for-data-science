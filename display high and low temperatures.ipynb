{
 "cells": [
  {
   "cell_type": "code",
   "execution_count": null,
   "id": "a1a289b5-6434-4c31-95cd-e2e0b5932733",
   "metadata": {},
   "outputs": [],
   "source": [
    "\"\"\"\n",
    "Create a tuple high_low representing a day of the week (a string) and its high and low temperatures (integers)\n",
    "display its string representation\n",
    "Use the [] operator to access and display the high_low tuple’s elements.\n",
    "Unpack the high_low tuple into the variables day and high and low.\n",
    "\"\"\""
   ]
  },
  {
   "cell_type": "code",
   "execution_count": null,
   "id": "96708129-1b81-462e-93dc-8d267cc0aaad",
   "metadata": {
    "tags": []
   },
   "outputs": [],
   "source": [
    "high_low = (\"Monday\",29,30)\n",
    "print(str(high_low))\n",
    "print(high_low[0],high_low[1])\n",
    "day, high, low = high_low"
   ]
  }
 ],
 "metadata": {
  "kernelspec": {
   "display_name": "Python 3 (ipykernel)",
   "language": "python",
   "name": "python3"
  },
  "language_info": {
   "codemirror_mode": {
    "name": "ipython",
    "version": 3
   },
   "file_extension": ".py",
   "mimetype": "text/x-python",
   "name": "python",
   "nbconvert_exporter": "python",
   "pygments_lexer": "ipython3",
   "version": "3.8.11"
  },
  "widgets": {
   "application/vnd.jupyter.widget-state+json": {
    "state": {},
    "version_major": 2,
    "version_minor": 0
   }
  }
 },
 "nbformat": 4,
 "nbformat_minor": 5
}
