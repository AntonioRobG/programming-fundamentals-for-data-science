{
 "cells": [
  {
   "cell_type": "code",
   "execution_count": null,
   "id": "eb4304a3-3cda-49c2-8ec8-4412fe20afd9",
   "metadata": {},
   "outputs": [],
   "source": [
    "\"\"\" \n",
    "Write a script that inputs a sentence from the user, then uses a dictionary to summarize the number of occurrences of each letter. \n",
    "Ignore case, ignore blanks. \n",
    "Display a two-column table of the letters and their counts with the letters in sorted order.\n",
    "\"\"\" "
   ]
  },
  {
   "cell_type": "code",
   "execution_count": null,
   "id": "b8234904-aa91-4475-abd2-fa4265ef92e8",
   "metadata": {},
   "outputs": [],
   "source": [
    "from collections import Counter\n",
    "myLongString = ('this is sample text with several words' \n",
    "                'this is more Sample text with some different words')\n",
    "\n",
    "dict(Counter(sorted(myLongString.lower().split())))"
   ]
  }
 ],
 "metadata": {
  "kernelspec": {
   "display_name": "Python 3 (ipykernel)",
   "language": "python",
   "name": "python3"
  },
  "language_info": {
   "codemirror_mode": {
    "name": "ipython",
    "version": 3
   },
   "file_extension": ".py",
   "mimetype": "text/x-python",
   "name": "python",
   "nbconvert_exporter": "python",
   "pygments_lexer": "ipython3",
   "version": "3.8.11"
  },
  "widgets": {
   "application/vnd.jupyter.widget-state+json": {
    "state": {},
    "version_major": 2,
    "version_minor": 0
   }
  }
 },
 "nbformat": 4,
 "nbformat_minor": 5
}
