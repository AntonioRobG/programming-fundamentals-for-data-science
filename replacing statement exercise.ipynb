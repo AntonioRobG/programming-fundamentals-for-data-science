{
 "cells": [
  {
   "cell_type": "code",
   "execution_count": null,
   "id": "691db85e-5cbe-4187-b415-8bc13c43a3ae",
   "metadata": {},
   "outputs": [],
   "source": [
    "\"\"\"\n",
    "Replace *** in the following code with a statement that will print a message like 'Congratulations! ' and the value\n",
    "\"\"\""
   ]
  },
  {
   "cell_type": "code",
   "execution_count": null,
   "id": "7e79dd26-32e6-4941-91d6-3666d396049a",
   "metadata": {
    "tags": []
   },
   "outputs": [],
   "source": [
    "grade=280\n",
    "if grade >= 90:\n",
    "    print(f\"Congratulations, your grade is: {grade}\")"
   ]
  }
 ],
 "metadata": {
  "kernelspec": {
   "display_name": "Python 3 (ipykernel)",
   "language": "python",
   "name": "python3"
  },
  "language_info": {
   "codemirror_mode": {
    "name": "ipython",
    "version": 3
   },
   "file_extension": ".py",
   "mimetype": "text/x-python",
   "name": "python",
   "nbconvert_exporter": "python",
   "pygments_lexer": "ipython3",
   "version": "3.8.11"
  },
  "widgets": {
   "application/vnd.jupyter.widget-state+json": {
    "state": {},
    "version_major": 2,
    "version_minor": 0
   }
  }
 },
 "nbformat": 4,
 "nbformat_minor": 5
}
