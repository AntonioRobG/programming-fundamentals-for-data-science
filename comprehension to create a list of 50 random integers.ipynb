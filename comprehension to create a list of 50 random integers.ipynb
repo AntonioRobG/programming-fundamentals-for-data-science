{
 "cells": [
  {
   "cell_type": "code",
   "execution_count": null,
   "id": "9fe28124-355e-42b9-9f2a-bcb078dc086b",
   "metadata": {},
   "outputs": [],
   "source": [
    "\"\"\"\n",
    "Use a comprehension to create a list of 50 random integers in the range 1-5. \n",
    "Summarize them with a Counter. Display the results in two-column format.\n",
    "\"\"\" "
   ]
  },
  {
   "cell_type": "code",
   "execution_count": null,
   "id": "1bb555c7-9c7d-489c-be3b-271b814e4472",
   "metadata": {},
   "outputs": [],
   "source": [
    "import random\n",
    "from collections import Counter\n",
    "\n",
    "myList = [random.randrange(1,6) for i in range(50)]\n",
    "myCounter = Counter(myList)\n",
    "\n",
    "for a,b in myCounter.items():\n",
    "    print(a,\"\\t\",b)"
   ]
  }
 ],
 "metadata": {
  "kernelspec": {
   "display_name": "Python 3 (ipykernel)",
   "language": "python",
   "name": "python3"
  },
  "language_info": {
   "codemirror_mode": {
    "name": "ipython",
    "version": 3
   },
   "file_extension": ".py",
   "mimetype": "text/x-python",
   "name": "python",
   "nbconvert_exporter": "python",
   "pygments_lexer": "ipython3",
   "version": "3.8.11"
  },
  "widgets": {
   "application/vnd.jupyter.widget-state+json": {
    "state": {},
    "version_major": 2,
    "version_minor": 0
   }
  }
 },
 "nbformat": 4,
 "nbformat_minor": 5
}
