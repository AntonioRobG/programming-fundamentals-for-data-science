{
 "cells": [
  {
   "cell_type": "code",
   "execution_count": null,
   "id": "8693d3b3-1270-4c44-b329-ba930b0b29ca",
   "metadata": {},
   "outputs": [],
   "source": [
    "\"\"\"\n",
    "Write a script that plays \"guess the number.\" \n",
    "Choose the number to be guessed by selecting a random integer in the range 1 to 1000. \n",
    "Do not reveal this number to the user. Display the prompt \"Guess my number between 1 and 1000 with the fewest guesses:\". \n",
    "The player inputs a first guess. \n",
    "If the guess is incorrect, display \"Too high. Tty again.\" or \"Too low. Tty again.\" as appropriate to help the player \"zero in\" on the correct answer, \n",
    "then prompt the user for the next guess. \n",
    "When the user enters the correct answer, display \"Congratulations. You guessed the number!\", and allow the user to choose whether to play again.\n",
    "Count the number of guesses the player makes. If the number is 10 or fewer, display \"Did you know the secret or you got lucky? \" \n",
    "If the player makes more than 10 guesses, display \"You should be able to do better! \" Why should it take more than 10 guesses?\n",
    "Doing this 10 times halves down the possibilities to a single number.\n",
    "\"\"\""
   ]
  },
  {
   "cell_type": "code",
   "execution_count": null,
   "id": "5be2dda3-df2e-4cd4-a8ca-372822a71821",
   "metadata": {
    "tags": []
   },
   "outputs": [],
   "source": [
    "import random\n",
    "winning_number = random.randrange(1,1001)\n",
    "guesses = []\n",
    "while True:\n",
    "    number_guessed = int(input(\"Guess my number between 1 and 1000 with the fewest guesses:\"))\n",
    "    guesses.append(number_guessed)\n",
    "    if number_guessed > winning_number:\n",
    "        print(\"Too high. Try again.\")\n",
    "    elif number_guessed < winning_number: \n",
    "        print(\"Too low. Try again.\")\n",
    "    elif number_guessed == winning_number: \n",
    "        print(\"Congratulations. You guessed the number!\")\n",
    "        print(\"Guesses: \",len(guesses))\n",
    "        if len(guesses)>10: print(\"But it's mathematically assured to get the number after 10 guesses. Try again!\")\n",
    "        elif len(guesses)<10: print(\"Less than 10 guesses! Did you know the secret or were you just lucky?\")\n",
    "        answer = input(\"Want to play again? y/n\")\n",
    "        if answer == \"y\":\n",
    "            winning_number = random.randrange(1,1001)\n",
    "            guesses = []\n",
    "        else: break"
   ]
  }
 ],
 "metadata": {
  "kernelspec": {
   "display_name": "Python 3 (ipykernel)",
   "language": "python",
   "name": "python3"
  },
  "language_info": {
   "codemirror_mode": {
    "name": "ipython",
    "version": 3
   },
   "file_extension": ".py",
   "mimetype": "text/x-python",
   "name": "python",
   "nbconvert_exporter": "python",
   "pygments_lexer": "ipython3",
   "version": "3.8.11"
  },
  "widgets": {
   "application/vnd.jupyter.widget-state+json": {
    "state": {},
    "version_major": 2,
    "version_minor": 0
   }
  }
 },
 "nbformat": 4,
 "nbformat_minor": 5
}
