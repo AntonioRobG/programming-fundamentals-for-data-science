{
 "cells": [
  {
   "cell_type": "code",
   "execution_count": null,
   "id": "7927723f-1220-4863-8433-9402622e0888",
   "metadata": {},
   "outputs": [],
   "source": [
    "\"\"\"\n",
    "Given the following array: \n",
    "array([ [1, 2, 3, 4, 5], \n",
    "        [6, 7, 8, 9, 10], \n",
    "        [11, 12, 13, 14, 15]])\n",
    "\n",
    "a)\tSelect the second row.\n",
    "b)\tSelect the first and third rows.\n",
    "c)\tSelect the middle three columns.\n",
    "\"\"\" "
   ]
  },
  {
   "cell_type": "code",
   "execution_count": null,
   "id": "0eb0435c-79ac-4a30-9d96-5eee35db313d",
   "metadata": {},
   "outputs": [],
   "source": [
    "import numpy as np\n",
    "a = np.array([  [1, 2, 3, 4, 5], \n",
    "                [6, 7, 8, 9, 10], \n",
    "                [11, 12, 13, 14, 15] ])\n",
    "a[1,]\n",
    "a[[0,2]]\n",
    "a[:,[1,2,3]]"
   ]
  }
 ],
 "metadata": {
  "kernelspec": {
   "display_name": "Python 3 (ipykernel)",
   "language": "python",
   "name": "python3"
  },
  "language_info": {
   "codemirror_mode": {
    "name": "ipython",
    "version": 3
   },
   "file_extension": ".py",
   "mimetype": "text/x-python",
   "name": "python",
   "nbconvert_exporter": "python",
   "pygments_lexer": "ipython3",
   "version": "3.8.11"
  },
  "widgets": {
   "application/vnd.jupyter.widget-state+json": {
    "state": {},
    "version_major": 2,
    "version_minor": 0
   }
  }
 },
 "nbformat": 4,
 "nbformat_minor": 5
}
