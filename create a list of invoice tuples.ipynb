{
 "cells": [
  {
   "cell_type": "code",
   "execution_count": null,
   "id": "886b3d2f-8815-437d-826d-62a4d86ea193",
   "metadata": {},
   "outputs": [],
   "source": [
    "\"\"\"\n",
    "When you purchase products you typically receive an invoice listing what you purchased and the total amount of money due. \n",
    "Create a list of invoice tuples that consist of four pieces of data: \n",
    "a part number string, \n",
    "a part description string, \n",
    "an integer quantity of the item being purchased\n",
    "a float item price (Decimal should be used for monetary amounts). \n",
    "Use the sample hardware data shown in the following table.\n",
    "Part number\t\tPart description\tQuantity\tPrice\n",
    "83\t\t\t\tElectric sander\t\t7\t\t\t57.98\n",
    "24\t\t\t\tPower saw\t\t\t18\t\t\t99.99\n",
    "7\t\t\t\tSledge hammer\t\t11\t\t\t21.50\n",
    "77\t\t\t\tHammer\t\t\t\t76\t\t\t11.99\n",
    "39\t\t\t\tJig saw\t\t\t\t3\t\t\t79.50\n",
    "Perform the following tasks on the list:\n",
    "a)\tUse function sorted() with a key argument to sort the tuples by part description, then display the results. \n",
    "To specify the element of the tuple that should be used for sorting, use a lambda expression or the operator module\n",
    "b)\tUse the sorted() function with a key argument to sort the tuples by price, then display the results.\n",
    "c)\tMap each invoice tuple to a tuple containing the part description and quantity, sort the results by quantity, then display the results.\n",
    "d)\tMap each invoice tuple to a tuple containing the part description and value (the product of quantity * item price), sort by value, then display.\n",
    "e)\tModify Part (d) to filter the results to invoice values in the range $200 to $500.\n",
    "f)\tCalculate the total of all the invoices.\n",
    "\"\"\" "
   ]
  },
  {
   "cell_type": "code",
   "execution_count": 3,
   "id": "f61e86e8-39ad-4d7c-92f6-470130a5e2fb",
   "metadata": {},
   "outputs": [
    {
     "name": "stdout",
     "output_type": "stream",
     "text": [
      "[('83', 'Electric sander', 7, Decimal('57.98')), ('77', 'Hammer', 76, Decimal('11.99')), ('39', 'Jig saw', 3, Decimal('79.50')), ('24', 'Power saw', 18, Decimal('99.99')), ('7', 'Sledge hammer', 11, Decimal('21.50'))] \n",
      "\n",
      "[('77', 'Hammer', 76, Decimal('11.99')), ('7', 'Sledge hammer', 11, Decimal('21.50')), ('83', 'Electric sander', 7, Decimal('57.98')), ('39', 'Jig saw', 3, Decimal('79.50')), ('24', 'Power saw', 18, Decimal('99.99'))] \n",
      "\n",
      "[('Jig saw', 3), ('Electric sander', 7), ('Sledge hammer', 11), ('Power saw', 18), ('Hammer', 76)] \n",
      "\n",
      "[('Sledge hammer', Decimal('236.50')), ('Jig saw', Decimal('238.50')), ('Electric sander', Decimal('405.86')), ('Hammer', Decimal('911.24')), ('Power saw', Decimal('1799.82'))] \n",
      "\n",
      "[('Sledge hammer', Decimal('236.50')), ('Jig saw', Decimal('238.50')), ('Electric sander', Decimal('405.86'))] \n",
      "\n",
      "270.96\n"
     ]
    }
   ],
   "source": [
    "from decimal import Decimal\n",
    "from functools import reduce\n",
    "sumValues = 0\n",
    "invoiceTuple = [\n",
    "    (\"83\",\"Electric sander\",7,Decimal(\"57.98\")) , \n",
    "    (\"24\",\"Power saw\",18,Decimal(\"99.99\")) , \n",
    "    (\"7\",\"Sledge hammer\",11,Decimal(\"21.50\")) , \n",
    "    (\"77\",\"Hammer\",76,Decimal(\"11.99\")) , \n",
    "    (\"39\",\"Jig saw\",3,Decimal(\"79.50\"))\n",
    "]\n",
    "print(sorted(invoiceTuple,key=lambda i:i[1]),\"\\n\")\n",
    "print(sorted(invoiceTuple,key=lambda i:i[3]),\"\\n\")\n",
    "print(sorted(tuple(map(lambda i:(i[1],i[2]),invoiceTuple)),key=lambda i:i[1]),\"\\n\")\n",
    "print(sorted(tuple(map(lambda i:(i[1],i[2]*i[3]),invoiceTuple)),key=lambda i:i[1]),\"\\n\")\n",
    "print(sorted(tuple(filter(lambda i:True if (i[1]>200 and i[1]<500) else False,map(lambda i:(i[1],i[2]*i[3]),invoiceTuple))),key=lambda i:i[1]),\"\\n\")\n",
    "for i in invoiceTuple:\n",
    "    sumValues += i[3]\n",
    "print(sumValues)"
   ]
  }
 ],
 "metadata": {
  "kernelspec": {
   "display_name": "Python 3 (ipykernel)",
   "language": "python",
   "name": "python3"
  },
  "language_info": {
   "codemirror_mode": {
    "name": "ipython",
    "version": 3
   },
   "file_extension": ".py",
   "mimetype": "text/x-python",
   "name": "python",
   "nbconvert_exporter": "python",
   "pygments_lexer": "ipython3",
   "version": "3.10.0"
  },
  "widgets": {
   "application/vnd.jupyter.widget-state+json": {
    "state": {},
    "version_major": 2,
    "version_minor": 0
   }
  }
 },
 "nbformat": 4,
 "nbformat_minor": 5
}
