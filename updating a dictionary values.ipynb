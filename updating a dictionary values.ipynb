{
 "cells": [
  {
   "cell_type": "code",
   "execution_count": null,
   "id": "f1a8c756-5edf-4ca9-bc43-38d2f1299112",
   "metadata": {},
   "outputs": [],
   "source": [
    "\"\"\" \n",
    "Using the following dictionary, which maps country names to Internet top-level domains (TLDs):\n",
    "tlds = {'Canada': 'ca', 'United States': 'us', 'Mexico': 'mx'} \n",
    "\n",
    "a)\tCheck whether the dictionary contains the key ' Canada'.\n",
    "b)\tCheck whether the dictionary contains rhe key 'France'.\n",
    "c)\tIterate through the key-value pairs and display them in two-column format.\n",
    "d)\tAdd rhe key-value pair 'Sweden' and 'sw' (which is incorrect).\n",
    "e)\tUpdate the value for the key ’ Sweden' to ' se'.\n",
    "f)\tUse a dictionary comprehension to reverse the keys and values.\n",
    "g)\tWith the result of part (f), use a dictionary comprehension to convert the country names to all uppercase letters.\n",
    "\"\"\" "
   ]
  },
  {
   "cell_type": "code",
   "execution_count": null,
   "id": "acbaf4fb-2e7b-4ae9-bc23-7786ea21cbce",
   "metadata": {},
   "outputs": [],
   "source": [
    "tlds = {'Canada': 'ca', 'United States': 'us', 'Mexico': 'mx'}\n",
    "\"Canada\" in tlds\n",
    "\"France\" in tlds\n",
    "for k,v in tlds.items():\n",
    "    print(k,\"\\t\",v)\n",
    "tlds[\"Sweden\"] = \"sw\"\n",
    "tlds[\"Sweden\"] = \"se\"\n",
    "tlds = {v:k for k,v in tlds.items()}\n",
    "tlds = {k:v.upper() for k,v in tlds.items()}\n",
    "tlds"
   ]
  }
 ],
 "metadata": {
  "kernelspec": {
   "display_name": "Python 3 (ipykernel)",
   "language": "python",
   "name": "python3"
  },
  "language_info": {
   "codemirror_mode": {
    "name": "ipython",
    "version": 3
   },
   "file_extension": ".py",
   "mimetype": "text/x-python",
   "name": "python",
   "nbconvert_exporter": "python",
   "pygments_lexer": "ipython3",
   "version": "3.8.11"
  },
  "widgets": {
   "application/vnd.jupyter.widget-state+json": {
    "state": {},
    "version_major": 2,
    "version_minor": 0
   }
  }
 },
 "nbformat": 4,
 "nbformat_minor": 5
}
