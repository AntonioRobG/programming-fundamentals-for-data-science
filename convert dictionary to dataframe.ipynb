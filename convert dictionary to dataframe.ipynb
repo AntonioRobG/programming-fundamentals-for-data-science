{
 "cells": [
  {
   "cell_type": "code",
   "execution_count": null,
   "id": "8b3d68d7-186e-4dac-bb0d-28c586080f4d",
   "metadata": {},
   "outputs": [],
   "source": [
    "\"\"\"\n",
    "Given the following dictionary;\n",
    "temps = {'Mon':\t[68, 89],'Tue':[71,93],'Wed':[66,82],'Thu':[75,97],'Fri':[62,79]}\n",
    "\n",
    "a)\tConvert the dictionary into the DataFrame named temperatures with 'Low' and 'High' as the indices.\n",
    "b)\tUse the column names to select only the columns for ' Mon' through ’ Wed'.\n",
    "c)\tUse the row index ' Low' to select only the low temperatures for each day.\n",
    "d)\tSet the floating-point precision to 2, then calculate the average temperature for each day.\n",
    "e)\tCalculate the average low and high temperatures.\n",
    "\"\"\" "
   ]
  },
  {
   "cell_type": "code",
   "execution_count": null,
   "id": "5d45bf4f-38df-4fc1-bdb5-c69dfe01296d",
   "metadata": {},
   "outputs": [],
   "source": [
    "import numpy as np\n",
    "import pandas as pd\n",
    "temps = {'Mon':\t[68, 89],'Tue':[71,93],'Wed':[66,82],'Thu':[75,97],'Fri':[62,79]}\n",
    "temperatures = pd.DataFrame(temps, index=[\"Low\",\"High\"])\n",
    "temperatures\n",
    "temperatures.loc[:,\"Mon\":\"Wed\"] #loc is first row then column\n",
    "temperatures.loc[\"Low\",:]\n",
    "pd.set_option(\"precision\",2)\n",
    "temperatures.mean(0)\n",
    "temperatures.mean(1)"
   ]
  }
 ],
 "metadata": {
  "kernelspec": {
   "display_name": "Python 3 (ipykernel)",
   "language": "python",
   "name": "python3"
  },
  "language_info": {
   "codemirror_mode": {
    "name": "ipython",
    "version": 3
   },
   "file_extension": ".py",
   "mimetype": "text/x-python",
   "name": "python",
   "nbconvert_exporter": "python",
   "pygments_lexer": "ipython3",
   "version": "3.8.11"
  },
  "widgets": {
   "application/vnd.jupyter.widget-state+json": {
    "state": {},
    "version_major": 2,
    "version_minor": 0
   }
  }
 },
 "nbformat": 4,
 "nbformat_minor": 5
}
