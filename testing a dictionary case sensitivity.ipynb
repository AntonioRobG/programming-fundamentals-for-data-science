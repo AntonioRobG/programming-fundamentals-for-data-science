{
 "cells": [
  {
   "cell_type": "code",
   "execution_count": null,
   "id": "bcc1126b-80f0-4d71-8e46-f051fe30b058",
   "metadata": {},
   "outputs": [],
   "source": [
    "\"\"\" \n",
    "Dictionary keys are case sensitive. Confirm this by using the following dictionary and assigning 10 to the key 'x' (not \"X\")\n",
    "roman_numerals = {'I': 1, 'II': 2, 'III': 3, \"V\": 5, 'X': 100}\n",
    "\"\"\" "
   ]
  },
  {
   "cell_type": "code",
   "execution_count": null,
   "id": "6826bfa1-f0fc-408f-bede-54c65f5f4741",
   "metadata": {},
   "outputs": [],
   "source": [
    "roman_numerals = {'I': 1, 'II': 2, 'III': 3, \"V\": 5, 'X': 100}\n",
    "roman_numerals[\"x\"] = 10\n",
    "roman_numerals"
   ]
  }
 ],
 "metadata": {
  "kernelspec": {
   "display_name": "Python 3 (ipykernel)",
   "language": "python",
   "name": "python3"
  },
  "language_info": {
   "codemirror_mode": {
    "name": "ipython",
    "version": 3
   },
   "file_extension": ".py",
   "mimetype": "text/x-python",
   "name": "python",
   "nbconvert_exporter": "python",
   "pygments_lexer": "ipython3",
   "version": "3.8.11"
  },
  "widgets": {
   "application/vnd.jupyter.widget-state+json": {
    "state": {},
    "version_major": 2,
    "version_minor": 0
   }
  }
 },
 "nbformat": 4,
 "nbformat_minor": 5
}
