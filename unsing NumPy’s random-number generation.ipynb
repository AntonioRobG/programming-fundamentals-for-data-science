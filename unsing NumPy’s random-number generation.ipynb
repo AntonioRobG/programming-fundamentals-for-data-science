{
 "cells": [
  {
   "cell_type": "code",
   "execution_count": null,
   "id": "03dbd2fc-6832-483c-a7ba-652d4c02c70d",
   "metadata": {},
   "outputs": [],
   "source": [
    "\"\"\" \n",
    "Use the NumPy’s random-number generation to create an array of five random integers in the range 60—100\n",
    "a)\tConvert the array into the Series named temperatures and display it.\n",
    "b)\tDetermine the lowest, highest and average temperatures.\n",
    "c)\tProduce descriptive statistics for the Series.\n",
    "\"\"\" "
   ]
  },
  {
   "cell_type": "code",
   "execution_count": null,
   "id": "28060516-5d97-4555-a823-8dac26f834f5",
   "metadata": {},
   "outputs": [],
   "source": [
    "import numpy as np\n",
    "import pandas as pd\n",
    "temperatures = pd.Series(np.random.randint(60,101,5))\n",
    "temperatures\n",
    "temperatures.min()\n",
    "temperatures.max()\n",
    "temperatures.mean()\n",
    "temperatures.describe()"
   ]
  }
 ],
 "metadata": {
  "kernelspec": {
   "display_name": "Python 3 (ipykernel)",
   "language": "python",
   "name": "python3"
  },
  "language_info": {
   "codemirror_mode": {
    "name": "ipython",
    "version": 3
   },
   "file_extension": ".py",
   "mimetype": "text/x-python",
   "name": "python",
   "nbconvert_exporter": "python",
   "pygments_lexer": "ipython3",
   "version": "3.8.11"
  },
  "widgets": {
   "application/vnd.jupyter.widget-state+json": {
    "state": {},
    "version_major": 2,
    "version_minor": 0
   }
  }
 },
 "nbformat": 4,
 "nbformat_minor": 5
}
