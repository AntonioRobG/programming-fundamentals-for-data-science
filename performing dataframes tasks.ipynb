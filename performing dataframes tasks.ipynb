{
 "cells": [
  {
   "cell_type": "code",
   "execution_count": null,
   "id": "ed4b108f-6d2c-4514-adcd-544057ae9181",
   "metadata": {},
   "outputs": [],
   "source": [
    "\"\"\" \n",
    "Perform the following tasks with DataFrames:\n",
    "a)\tCreate a DataFrame named temperatures from a dictionary of three temperature readings each for 'Maxine', 'James', 'Amanda'\n",
    "b)\tRecreate the DataFrame temperatures in (a) with custom indices using the index keyword argument and a list containing\n",
    "['Morning', 'Afternoon', 'Evening']\n",
    "c)\tSelect from temperatures the column of temperature readings for 'Maxine'.\n",
    "d)\tSelect from temperatures the row of 'Morning' temperature readings.\n",
    "e)\tSelect from temperatures the rows for 'Morning' and ' Evening' temperature readings.\n",
    "f)\tSelect from temperatures the columns of temperature readings for 'Amanda' and 'Maxine'.\n",
    "g)\tSelect from temperatures the elements for 'Amanda' and 'Maxine' in the 'Morning' and 'Afternoon'.\n",
    "h)\tUse the describe method to produce temperatures’ descriptive statistics.\n",
    "i)\tTranspose temperatures.\n",
    "j)\tSort temperatures so that its column names are in alphabetical order.\n",
    "\"\"\""
   ]
  },
  {
   "cell_type": "code",
   "execution_count": null,
   "id": "31d0fb43-5152-4ea4-a7d1-22efcbdcc4cf",
   "metadata": {},
   "outputs": [],
   "source": [
    "import numpy as np\n",
    "import pandas as pd\n",
    "temperatures = {'Maxine' : [36.4,37.8,36.5], 'James': [35.4,36.8,34.5], 'Amanda': [36.4,34.8,39.5]}\n",
    "myDF = pd.DataFrame(temperatures, index = ['Morning', 'Afternoon', 'Evening'])\n",
    "myDF\n",
    "myDF[\"Maxine\"]\n",
    "myDF.loc[\"Morning\"]\n",
    "myDF.loc[[\"Morning\",\"Evening\"]]\n",
    "myDF[[\"Amanda\",\"Maxine\"]]\n",
    "myDF.loc[\"Morning\":\"Afternoon\",[\"Amanda\",\"Maxine\"]]\n",
    "myDF.describe()\n",
    "myDF.T\n",
    "myDF.sort_index(axis=1)"
   ]
  }
 ],
 "metadata": {
  "kernelspec": {
   "display_name": "Python 3 (ipykernel)",
   "language": "python",
   "name": "python3"
  },
  "language_info": {
   "codemirror_mode": {
    "name": "ipython",
    "version": 3
   },
   "file_extension": ".py",
   "mimetype": "text/x-python",
   "name": "python",
   "nbconvert_exporter": "python",
   "pygments_lexer": "ipython3",
   "version": "3.8.11"
  },
  "widgets": {
   "application/vnd.jupyter.widget-state+json": {
    "state": {},
    "version_major": 2,
    "version_minor": 0
   }
  }
 },
 "nbformat": 4,
 "nbformat_minor": 5
}
