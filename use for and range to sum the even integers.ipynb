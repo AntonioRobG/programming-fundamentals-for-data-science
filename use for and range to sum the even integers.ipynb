{
 "cells": [
  {
   "cell_type": "code",
   "execution_count": null,
   "id": "a507dda7-306e-4f84-a98b-ccd824ce83de",
   "metadata": {},
   "outputs": [],
   "source": [
    "\"\"\"\n",
    "Use for and range to sum the even integers from 2 through 100, then display the sum.\n",
    "\"\"\""
   ]
  },
  {
   "cell_type": "code",
   "execution_count": null,
   "id": "eb959c9d-25f2-4798-a086-d33938ed3671",
   "metadata": {
    "tags": []
   },
   "outputs": [],
   "source": [
    "total = 0\n",
    "for i in range(2,101):\n",
    "    if i % 2 == 0:\n",
    "        total += i\n",
    "        print(i,total)"
   ]
  }
 ],
 "metadata": {
  "kernelspec": {
   "display_name": "Python 3 (ipykernel)",
   "language": "python",
   "name": "python3"
  },
  "language_info": {
   "codemirror_mode": {
    "name": "ipython",
    "version": 3
   },
   "file_extension": ".py",
   "mimetype": "text/x-python",
   "name": "python",
   "nbconvert_exporter": "python",
   "pygments_lexer": "ipython3",
   "version": "3.8.11"
  },
  "widgets": {
   "application/vnd.jupyter.widget-state+json": {
    "state": {},
    "version_major": 2,
    "version_minor": 0
   }
  }
 },
 "nbformat": 4,
 "nbformat_minor": 5
}
