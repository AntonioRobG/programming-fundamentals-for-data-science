{
 "cells": [
  {
   "cell_type": "code",
   "execution_count": null,
   "id": "8b2412b4-b85d-42f8-a039-0ea6d768754b",
   "metadata": {},
   "outputs": [],
   "source": [
    "\"\"\"\n",
    "Define a function square_root that receives a number as a param and returns the square root of that number. Determine the square root of 6.25.\n",
    "\"\"\""
   ]
  },
  {
   "cell_type": "code",
   "execution_count": null,
   "id": "6463fc98-4a0a-454d-b9b3-4dd1a358df9e",
   "metadata": {
    "tags": []
   },
   "outputs": [],
   "source": [
    "def square_root(number):\n",
    "    return number**1/2\n",
    "square_root(6.25)"
   ]
  }
 ],
 "metadata": {
  "kernelspec": {
   "display_name": "Python 3 (ipykernel)",
   "language": "python",
   "name": "python3"
  },
  "language_info": {
   "codemirror_mode": {
    "name": "ipython",
    "version": 3
   },
   "file_extension": ".py",
   "mimetype": "text/x-python",
   "name": "python",
   "nbconvert_exporter": "python",
   "pygments_lexer": "ipython3",
   "version": "3.8.11"
  },
  "widgets": {
   "application/vnd.jupyter.widget-state+json": {
    "state": {},
    "version_major": 2,
    "version_minor": 0
   }
  }
 },
 "nbformat": 4,
 "nbformat_minor": 5
}
