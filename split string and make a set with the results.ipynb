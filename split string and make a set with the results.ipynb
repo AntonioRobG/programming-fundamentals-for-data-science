{
 "cells": [
  {
   "cell_type": "code",
   "execution_count": null,
   "id": "085b203b-df47-4f29-b08d-3bd1d47d83e1",
   "metadata": {},
   "outputs": [],
   "source": [
    "\"\"\"\n",
    "Assign the following string to \"text\", then split it into tokens with string method split and create a set from the results. \n",
    "Display the unique words in sorted order.\n",
    "'to be or not to be that is the question'\n",
    "\"\"\" "
   ]
  },
  {
   "cell_type": "code",
   "execution_count": null,
   "id": "e9d096bb-c422-498c-a8be-f1af30756ea2",
   "metadata": {},
   "outputs": [],
   "source": [
    "text = 'to be or not to be that is the question'\n",
    "a = set(text.split())\n",
    "b = sorted(a)\n",
    "b"
   ]
  }
 ],
 "metadata": {
  "kernelspec": {
   "display_name": "Python 3 (ipykernel)",
   "language": "python",
   "name": "python3"
  },
  "language_info": {
   "codemirror_mode": {
    "name": "ipython",
    "version": 3
   },
   "file_extension": ".py",
   "mimetype": "text/x-python",
   "name": "python",
   "nbconvert_exporter": "python",
   "pygments_lexer": "ipython3",
   "version": "3.8.11"
  },
  "widgets": {
   "application/vnd.jupyter.widget-state+json": {
    "state": {},
    "version_major": 2,
    "version_minor": 0
   }
  }
 },
 "nbformat": 4,
 "nbformat_minor": 5
}
