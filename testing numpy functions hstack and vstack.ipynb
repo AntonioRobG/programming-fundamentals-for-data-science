{
 "cells": [
  {
   "cell_type": "code",
   "execution_count": null,
   "id": "189ecd6e-18a6-4f6c-ad09-a50e5dda38b7",
   "metadata": {},
   "outputs": [],
   "source": [
    "\"\"\" \n",
    "Given a 2-by-3 array:\n",
    "array([ [1, 2, 3], \n",
    "        [4, 5, 6] ])\n",
    "use hstack and vstack to produce the following array: \n",
    "array([\n",
    "        [l, 2, 3, 1, 2, 3], \n",
    "        [4, 5, 6, 4, 5, 6], \n",
    "        [1, 2, 3, 1, 2, 3], \n",
    "        [4, 5, 6, 4, 5, 6]\n",
    "     ])\n",
    "\"\"\" "
   ]
  },
  {
   "cell_type": "code",
   "execution_count": null,
   "id": "fe790202-5edf-4f8b-94aa-5e4663ecb1e8",
   "metadata": {},
   "outputs": [],
   "source": [
    "import numpy as np\n",
    "a = np.array([  [1, 2, 3], \n",
    "                [4, 5, 6] ])\n",
    "a = np.hstack((a,a))\n",
    "a = np.vstack((a,a))\n",
    "a"
   ]
  }
 ],
 "metadata": {
  "kernelspec": {
   "display_name": "Python 3 (ipykernel)",
   "language": "python",
   "name": "python3"
  },
  "language_info": {
   "codemirror_mode": {
    "name": "ipython",
    "version": 3
   },
   "file_extension": ".py",
   "mimetype": "text/x-python",
   "name": "python",
   "nbconvert_exporter": "python",
   "pygments_lexer": "ipython3",
   "version": "3.8.11"
  },
  "widgets": {
   "application/vnd.jupyter.widget-state+json": {
    "state": {},
    "version_major": 2,
    "version_minor": 0
   }
  }
 },
 "nbformat": 4,
 "nbformat_minor": 5
}
