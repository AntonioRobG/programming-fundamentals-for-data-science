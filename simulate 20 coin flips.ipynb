{
 "cells": [
  {
   "cell_type": "code",
   "execution_count": null,
   "id": "92bb3dd2-7c35-422a-8c53-12e29f90fe34",
   "metadata": {},
   "outputs": [],
   "source": [
    "\"\"\"\n",
    "Use a for statement, randrange and a conditional expression to simulate 20 coin flips, \n",
    "displaying H for heads and T for tails all on the same line, each separated by a space.\n",
    "\"\"\""
   ]
  },
  {
   "cell_type": "code",
   "execution_count": null,
   "id": "b9513e0a-0448-4c10-983b-22ab94d429b3",
   "metadata": {
    "tags": []
   },
   "outputs": [],
   "source": [
    "import random\n",
    "for i in range(21):\n",
    "    if random.randrange(0,2) == 0:\n",
    "        print(\"H\",end=\" \")\n",
    "    else: \n",
    "        print(\"T\",end=\" \")"
   ]
  }
 ],
 "metadata": {
  "kernelspec": {
   "display_name": "Python 3 (ipykernel)",
   "language": "python",
   "name": "python3"
  },
  "language_info": {
   "codemirror_mode": {
    "name": "ipython",
    "version": 3
   },
   "file_extension": ".py",
   "mimetype": "text/x-python",
   "name": "python",
   "nbconvert_exporter": "python",
   "pygments_lexer": "ipython3",
   "version": "3.8.11"
  },
  "widgets": {
   "application/vnd.jupyter.widget-state+json": {
    "state": {},
    "version_major": 2,
    "version_minor": 0
   }
  }
 },
 "nbformat": 4,
 "nbformat_minor": 5
}
