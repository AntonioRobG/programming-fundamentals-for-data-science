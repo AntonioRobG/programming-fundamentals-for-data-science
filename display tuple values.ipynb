{
 "cells": [
  {
   "cell_type": "code",
   "execution_count": null,
   "id": "78a8a800-e348-45f7-88fb-47449dfc35b9",
   "metadata": {},
   "outputs": [],
   "source": [
    "\"\"\"\n",
    "Pack a student tuple with the name Sue and the list [89, 94, 85], display the tuple, \n",
    "then unpack it into variables name and grades, and display their values.\n",
    "\"\"\""
   ]
  },
  {
   "cell_type": "code",
   "execution_count": null,
   "id": "4d2f26d6-183b-46f7-9b86-f468421e8f68",
   "metadata": {
    "tags": []
   },
   "outputs": [],
   "source": [
    "student = (\"Sue\",[89, 94, 85])\n",
    "name, grades = student\n",
    "print(name,grades)"
   ]
  }
 ],
 "metadata": {
  "kernelspec": {
   "display_name": "Python 3 (ipykernel)",
   "language": "python",
   "name": "python3"
  },
  "language_info": {
   "codemirror_mode": {
    "name": "ipython",
    "version": 3
   },
   "file_extension": ".py",
   "mimetype": "text/x-python",
   "name": "python",
   "nbconvert_exporter": "python",
   "pygments_lexer": "ipython3",
   "version": "3.8.11"
  },
  "widgets": {
   "application/vnd.jupyter.widget-state+json": {
    "state": {},
    "version_major": 2,
    "version_minor": 0
   }
  }
 },
 "nbformat": 4,
 "nbformat_minor": 5
}
