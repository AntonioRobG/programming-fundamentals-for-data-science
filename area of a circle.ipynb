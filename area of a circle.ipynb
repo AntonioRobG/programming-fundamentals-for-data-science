{
 "cells": [
  {
   "cell_type": "code",
   "execution_count": null,
   "id": "3e341c50-2b98-47c5-b2b0-07b9b7f6d159",
   "metadata": {
    "tags": []
   },
   "outputs": [],
   "source": [
    "\"\"\"\n",
    "For a circle of radius 2, display the diameter, circumference and area. Use the value 3.14159 for n. Circumference=2*pi*r Area=pi*r^2\n",
    "\"\"\""
   ]
  },
  {
   "cell_type": "code",
   "execution_count": null,
   "id": "cf7dc4d0-7dd1-4760-8954-3962a91de510",
   "metadata": {
    "tags": []
   },
   "outputs": [],
   "source": [
    "PI = 3.14\n",
    "r = float(input('Please Enter the radius of a circle: ')) \n",
    "area = PI * r * r \n",
    "circumference = 2 * PI * r\n",
    "print(f\" Area Of a Circle = {area:.2f}\")\n",
    "print(f\" Circumference Of a Circle = {circumference:.2f}\")"
   ]
  }
 ],
 "metadata": {
  "kernelspec": {
   "display_name": "Python 3 (ipykernel)",
   "language": "python",
   "name": "python3"
  },
  "language_info": {
   "codemirror_mode": {
    "name": "ipython",
    "version": 3
   },
   "file_extension": ".py",
   "mimetype": "text/x-python",
   "name": "python",
   "nbconvert_exporter": "python",
   "pygments_lexer": "ipython3",
   "version": "3.8.11"
  },
  "widgets": {
   "application/vnd.jupyter.widget-state+json": {
    "state": {},
    "version_major": 2,
    "version_minor": 0
   }
  }
 },
 "nbformat": 4,
 "nbformat_minor": 5
}
