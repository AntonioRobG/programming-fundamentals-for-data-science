{
 "cells": [
  {
   "cell_type": "code",
   "execution_count": null,
   "id": "012eb3bc-9198-4833-a680-3dc8df27ac2c",
   "metadata": {},
   "outputs": [],
   "source": [
    "\"\"\"\n",
    "Implement a function that returns the Fahrenheit equivalent of a Celsius temperature. \n",
    "Use the following formula:\n",
    "F = (9/5)*C + 32\n",
    "Use this function to print a chart showing the Fahrenheit equivalents of all Celsius temperatures in the range 0-100 degrees. \n",
    "Use one digit of precision for the results. Print the outputs in a tabular format.\n",
    "\"\"\""
   ]
  },
  {
   "cell_type": "code",
   "execution_count": null,
   "id": "231c9c14-2e67-449b-ab6b-6f1af350304d",
   "metadata": {
    "tags": []
   },
   "outputs": [],
   "source": [
    "def Fahrenheit(c):\n",
    "    for i in range(0,101):\n",
    "        print(f\"C: {i}\\tF: {(9/5)*i +32:.1f}\")\n",
    "Fahrenheit(31)"
   ]
  }
 ],
 "metadata": {
  "kernelspec": {
   "display_name": "Python 3 (ipykernel)",
   "language": "python",
   "name": "python3"
  },
  "language_info": {
   "codemirror_mode": {
    "name": "ipython",
    "version": 3
   },
   "file_extension": ".py",
   "mimetype": "text/x-python",
   "name": "python",
   "nbconvert_exporter": "python",
   "pygments_lexer": "ipython3",
   "version": "3.8.11"
  },
  "widgets": {
   "application/vnd.jupyter.widget-state+json": {
    "state": {},
    "version_major": 2,
    "version_minor": 0
   }
  }
 },
 "nbformat": 4,
 "nbformat_minor": 5
}
