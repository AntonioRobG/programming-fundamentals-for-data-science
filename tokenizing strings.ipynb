{
 "cells": [
  {
   "cell_type": "code",
   "execution_count": null,
   "id": "cfa5573b-a2fd-4427-9eef-d17f3563ac04",
   "metadata": {},
   "outputs": [],
   "source": [
    "\"\"\"\n",
    "Use an empty list named characters and a += augmented assignment statement to convert the string ’Birthday' into a list of its characters.\n",
    "\"\"\""
   ]
  },
  {
   "cell_type": "code",
   "execution_count": null,
   "id": "90a9da6f-1010-4908-b7cb-231609c22bff",
   "metadata": {
    "tags": []
   },
   "outputs": [],
   "source": [
    "characters = []\n",
    "characters += \"Birthday\"\n",
    "characters"
   ]
  }
 ],
 "metadata": {
  "kernelspec": {
   "display_name": "Python 3 (ipykernel)",
   "language": "python",
   "name": "python3"
  },
  "language_info": {
   "codemirror_mode": {
    "name": "ipython",
    "version": 3
   },
   "file_extension": ".py",
   "mimetype": "text/x-python",
   "name": "python",
   "nbconvert_exporter": "python",
   "pygments_lexer": "ipython3",
   "version": "3.8.11"
  },
  "widgets": {
   "application/vnd.jupyter.widget-state+json": {
    "state": {},
    "version_major": 2,
    "version_minor": 0
   }
  }
 },
 "nbformat": 4,
 "nbformat_minor": 5
}
