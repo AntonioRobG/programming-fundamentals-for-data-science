{
 "cells": [
  {
   "cell_type": "code",
   "execution_count": null,
   "id": "0943bff0-d402-4239-9043-ced96cdbbc00",
   "metadata": {},
   "outputs": [],
   "source": [
    "\"\"\" \n",
    "A string that’s spelled identically backward and forward, like ’radar', is a palindrome. \n",
    "Write a function is_palindrome that takes a string and returns True if it’s a palindrome. \n",
    "Use a stack to help determine whether a string is a palindrome. \n",
    "Your function should ignore case sensitivity (that is, 'a' and 'A' are the same), spaces and punctuation.\n",
    "\"\"\" "
   ]
  },
  {
   "cell_type": "code",
   "execution_count": null,
   "id": "f387e200-b7e3-403e-ba10-fe4645303084",
   "metadata": {},
   "outputs": [],
   "source": [
    "lista = []\n",
    "listb = []\n",
    "\n",
    "def is_palindrome(mystring):\n",
    "    mylist = [i.lower().replace(\" \",\"\").replace(\".\",\"\").replace(\"!\",\"\") for i in mystring]\n",
    "    if len(mylist) % 2 == 0:\n",
    "        for i,v in enumerate(mylist):\n",
    "            lista.append(mylist[i])\n",
    "            listb.append(mylist[-(i+1)])\n",
    "            if lista[-1] == listb[-1]:\n",
    "                lista.pop()\n",
    "                listb.pop()\n",
    "    if lista == listb:\n",
    "        print(mystring,\"is a palindrome!\")\n",
    "    else:\n",
    "        print(mystring,\"isn't a palindrome...\")\n",
    "\n",
    "is_palindrome(\"May a moody baby doom a yam\")"
   ]
  }
 ],
 "metadata": {
  "kernelspec": {
   "display_name": "Python 3 (ipykernel)",
   "language": "python",
   "name": "python3"
  },
  "language_info": {
   "codemirror_mode": {
    "name": "ipython",
    "version": 3
   },
   "file_extension": ".py",
   "mimetype": "text/x-python",
   "name": "python",
   "nbconvert_exporter": "python",
   "pygments_lexer": "ipython3",
   "version": "3.8.11"
  },
  "widgets": {
   "application/vnd.jupyter.widget-state+json": {
    "state": {},
    "version_major": 2,
    "version_minor": 0
   }
  }
 },
 "nbformat": 4,
 "nbformat_minor": 5
}
