{
 "cells": [
  {
   "cell_type": "code",
   "execution_count": null,
   "id": "0ef69286-29ba-45c3-b836-709a2e948251",
   "metadata": {},
   "outputs": [],
   "source": [
    "\"\"\" \n",
    "Use a dictionary comprehension to create a dictionary of the numbers 1-5 mapped to their cubes.\n",
    "\"\"\" "
   ]
  },
  {
   "cell_type": "code",
   "execution_count": null,
   "id": "6e27378c-283d-4772-8640-0e63d8a3ac1a",
   "metadata": {},
   "outputs": [],
   "source": [
    "myDict = {v:v**3 for v in range(1,6)}\n",
    "myDict"
   ]
  }
 ],
 "metadata": {
  "kernelspec": {
   "display_name": "Python 3 (ipykernel)",
   "language": "python",
   "name": "python3"
  },
  "language_info": {
   "codemirror_mode": {
    "name": "ipython",
    "version": 3
   },
   "file_extension": ".py",
   "mimetype": "text/x-python",
   "name": "python",
   "nbconvert_exporter": "python",
   "pygments_lexer": "ipython3",
   "version": "3.8.11"
  },
  "widgets": {
   "application/vnd.jupyter.widget-state+json": {
    "state": {},
    "version_major": 2,
    "version_minor": 0
   }
  }
 },
 "nbformat": 4,
 "nbformat_minor": 5
}
