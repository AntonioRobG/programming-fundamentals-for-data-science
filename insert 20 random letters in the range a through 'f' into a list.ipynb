{
 "cells": [
  {
   "cell_type": "code",
   "execution_count": null,
   "id": "c54dadc6-5dfb-425d-9b4d-786392f6fed2",
   "metadata": {},
   "outputs": [],
   "source": [
    "\"\"\"\n",
    "Insert 20 random letters in the range \"a\" through 'f' into a list.\n",
    "a)\tSort the list in ascending order.\n",
    "b)\tSort the list in descending order.\n",
    "c)\tGet the unique values and sort them in ascending order.\n",
    "\"\"\" "
   ]
  },
  {
   "cell_type": "code",
   "execution_count": null,
   "id": "302ee092-c91d-47aa-ba88-9a8ef1cad479",
   "metadata": {},
   "outputs": [],
   "source": [
    "import random\n",
    "mylist = list(\"abcdef\")\n",
    "newlist = []\n",
    "for i in range(21):\n",
    "    newlist.append(random.choice(mylist))\n",
    "newlist.sort()\n",
    "print(newlist)\n",
    "newlist.sort(reverse=True)\n",
    "print(newlist)\n",
    "newlist = list(dict.fromkeys(newlist))\n",
    "newlist.sort()\n",
    "print(newlist)"
   ]
  }
 ],
 "metadata": {
  "kernelspec": {
   "display_name": "Python 3 (ipykernel)",
   "language": "python",
   "name": "python3"
  },
  "language_info": {
   "codemirror_mode": {
    "name": "ipython",
    "version": 3
   },
   "file_extension": ".py",
   "mimetype": "text/x-python",
   "name": "python",
   "nbconvert_exporter": "python",
   "pygments_lexer": "ipython3",
   "version": "3.8.11"
  },
  "widgets": {
   "application/vnd.jupyter.widget-state+json": {
    "state": {},
    "version_major": 2,
    "version_minor": 0
   }
  }
 },
 "nbformat": 4,
 "nbformat_minor": 5
}
