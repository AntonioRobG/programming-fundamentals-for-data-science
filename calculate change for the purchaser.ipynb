{
 "cells": [
  {
   "cell_type": "code",
   "execution_count": null,
   "id": "ea26c620-a002-41c4-a672-469798d55b8e",
   "metadata": {},
   "outputs": [],
   "source": [
    "\"\"\"\n",
    "Write a script that inputs a purchase price of a Euro or less for an item. \n",
    "Determine the amount of change the cashier should give back to the purchaser. \n",
    "Display the change using the fewest number of 50.20,10,5,2,1 cents. \n",
    "For example, if the purchaser is due 73 cents in change, the script would output: 50 20 2 1 cents\n",
    "\"\"\""
   ]
  },
  {
   "cell_type": "code",
   "execution_count": null,
   "id": "4dd10d65-3bfb-4922-aaa5-d68389411ac0",
   "metadata": {
    "tags": []
   },
   "outputs": [],
   "source": [
    "%%space 7\n",
    "total_price = int(input(\"Thanks for your purchase, you paid 1 euro. What's the price of the item (less than 1 euro): \"))\n",
    "change = 100-total_price\n",
    "print(f\"Your change is: {change} cents\")\n",
    "while change != 0:\n",
    "    for x in [50,20,10,5,2]:\n",
    "        if change==1:\n",
    "            change = 0\n",
    "            print(f\"So here's 1 cent\")\n",
    "        elif change>=x:\n",
    "            temp = change // x\n",
    "            change -= x*temp\n",
    "            if change == 0:\n",
    "                print(f\"Here's {temp} coin{'s' if temp > 1 else ''} of {x} cents.\")\n",
    "            elif change == 1:\n",
    "                print(f\"Here's {temp} coin of {x} cents, I still owe you 1 cent.\",end=\"\")\n",
    "            else:\n",
    "                print(f\"Here's {temp} coin of {x} cents, I still owe you {change} cents.\")"
   ]
  }
 ],
 "metadata": {
  "kernelspec": {
   "display_name": "Python 3 (ipykernel)",
   "language": "python",
   "name": "python3"
  },
  "language_info": {
   "codemirror_mode": {
    "name": "ipython",
    "version": 3
   },
   "file_extension": ".py",
   "mimetype": "text/x-python",
   "name": "python",
   "nbconvert_exporter": "python",
   "pygments_lexer": "ipython3",
   "version": "3.8.11"
  },
  "widgets": {
   "application/vnd.jupyter.widget-state+json": {
    "state": {},
    "version_major": 2,
    "version_minor": 0
   }
  }
 },
 "nbformat": 4,
 "nbformat_minor": 5
}
