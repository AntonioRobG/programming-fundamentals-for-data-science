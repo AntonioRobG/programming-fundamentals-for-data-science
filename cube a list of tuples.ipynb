{
 "cells": [
  {
   "cell_type": "code",
   "execution_count": null,
   "id": "3b2cc4c4-2b48-4cbf-87cd-22201c74ce0c",
   "metadata": {},
   "outputs": [],
   "source": [
    "\"\"\"\n",
    "Use a list comprehension to create a list of tuples containing the numbers 1-5 and their cubes—that is, \n",
    "[(1, 1), (2, 8), (3, 27), ....]\n",
    "\"\"\""
   ]
  },
  {
   "cell_type": "code",
   "execution_count": null,
   "id": "70875c81-a910-4833-b202-18a8688cc474",
   "metadata": {
    "tags": []
   },
   "outputs": [],
   "source": [
    "list_of_tuples = [(i,i**3) for i in range(1,6)]\n",
    "print(list_of_tuples)"
   ]
  }
 ],
 "metadata": {
  "kernelspec": {
   "display_name": "Python 3 (ipykernel)",
   "language": "python",
   "name": "python3"
  },
  "language_info": {
   "codemirror_mode": {
    "name": "ipython",
    "version": 3
   },
   "file_extension": ".py",
   "mimetype": "text/x-python",
   "name": "python",
   "nbconvert_exporter": "python",
   "pygments_lexer": "ipython3",
   "version": "3.8.11"
  },
  "widgets": {
   "application/vnd.jupyter.widget-state+json": {
    "state": {},
    "version_major": 2,
    "version_minor": 0
   }
  }
 },
 "nbformat": 4,
 "nbformat_minor": 5
}
