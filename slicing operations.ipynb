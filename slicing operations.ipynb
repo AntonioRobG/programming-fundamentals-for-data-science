{
 "cells": [
  {
   "cell_type": "code",
   "execution_count": null,
   "id": "1545530f-cef5-406e-a2fc-564ac9f574e7",
   "metadata": {},
   "outputs": [],
   "source": [
    "\"\"\" \n",
    "Create a string called alphabet containing 'abcdefghijkimnopqrstuvwxyz', then perform the following separate slice operations to obtain:\n",
    "a)\tThe first half of the string using starting and ending indices.\n",
    "b)\tThe first half of the string using only the ending index.\n",
    "c)\tThe second half of the string using starting and ending indices.\n",
    "d)\tThe second half of the string using only the starting index.\n",
    "e)\tEvery second letter in the string starting with 'a'.\n",
    "0\tThe entire string in reverse.\n",
    "g)  Every third letter of the string in reverse starting with ' z'.\n",
    "\"\"\" "
   ]
  },
  {
   "cell_type": "code",
   "execution_count": null,
   "id": "2aa64816-5956-4486-9424-f69701a5e3ad",
   "metadata": {},
   "outputs": [],
   "source": [
    "a = 'abcdefghijkimnopqrstuvwxyz'\n",
    "a[0:13]\n",
    "a[:13]\n",
    "a[13:26]\n",
    "a[13:]\n",
    "a[0::2]\n",
    "a[::-1]\n",
    "a[-1::-3]"
   ]
  }
 ],
 "metadata": {
  "kernelspec": {
   "display_name": "Python 3 (ipykernel)",
   "language": "python",
   "name": "python3"
  },
  "language_info": {
   "codemirror_mode": {
    "name": "ipython",
    "version": 3
   },
   "file_extension": ".py",
   "mimetype": "text/x-python",
   "name": "python",
   "nbconvert_exporter": "python",
   "pygments_lexer": "ipython3",
   "version": "3.8.11"
  },
  "widgets": {
   "application/vnd.jupyter.widget-state+json": {
    "state": {},
    "version_major": 2,
    "version_minor": 0
   }
  }
 },
 "nbformat": 4,
 "nbformat_minor": 5
}
