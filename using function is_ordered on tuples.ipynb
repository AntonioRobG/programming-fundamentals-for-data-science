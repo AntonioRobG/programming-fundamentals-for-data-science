{
 "cells": [
  {
   "cell_type": "code",
   "execution_count": null,
   "id": "8fc06fcb-0dde-4136-a7d1-62f1b75fbbe1",
   "metadata": {},
   "outputs": [],
   "source": [
    "\"\"\" \n",
    "Create a function is_ordered that receives a sequence and returns True if the elements are in sorted order. \n",
    "Test your function with sorted and unsorted lists, tuples and strings.\n",
    "\"\"\" "
   ]
  },
  {
   "cell_type": "code",
   "execution_count": null,
   "id": "ce59d8a9-1145-4eb9-b177-553dabae82d8",
   "metadata": {},
   "outputs": [],
   "source": [
    "def is_ordered(arg):\n",
    "    arg2 = arg.sort()\n",
    "    if arg == arg2:\n",
    "        return True\n",
    "    else:\n",
    "        return False\n",
    "    \n",
    "sequence = [1,5634,432,56643645]\n",
    "is_ordered(sequence)"
   ]
  }
 ],
 "metadata": {
  "kernelspec": {
   "display_name": "Python 3 (ipykernel)",
   "language": "python",
   "name": "python3"
  },
  "language_info": {
   "codemirror_mode": {
    "name": "ipython",
    "version": 3
   },
   "file_extension": ".py",
   "mimetype": "text/x-python",
   "name": "python",
   "nbconvert_exporter": "python",
   "pygments_lexer": "ipython3",
   "version": "3.8.11"
  },
  "widgets": {
   "application/vnd.jupyter.widget-state+json": {
    "state": {},
    "version_major": 2,
    "version_minor": 0
   }
  }
 },
 "nbformat": 4,
 "nbformat_minor": 5
}
