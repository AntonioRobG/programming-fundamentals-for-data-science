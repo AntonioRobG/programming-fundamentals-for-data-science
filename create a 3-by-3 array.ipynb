{
 "cells": [
  {
   "cell_type": "code",
   "execution_count": null,
   "id": "d9672ced-1a47-477a-87fc-6a6aac316f7a",
   "metadata": {},
   "outputs": [],
   "source": [
    "\"\"\" \n",
    "Create a 3-by-3 array containing the even integers from 2 through 18. \n",
    "Create a second 3-by-3 array containing the integers from 9 down to 1, then multiply the first array by the second.\n",
    "\"\"\" "
   ]
  },
  {
   "cell_type": "code",
   "execution_count": null,
   "id": "4fc43495-0375-4b4f-bda8-aea1cd13b8c7",
   "metadata": {},
   "outputs": [],
   "source": [
    "import numpy as np\n",
    "import pandas as pd\n",
    "myNewArray = np.array([i for i in range(2,19) if i % 2 == 0]).reshape(3,3)\n",
    "print(myNewArray)\n",
    "myNewArray2 = np.linspace(9,1,num=9,dtype=int)\n",
    "myNewArray2.resize(3,3)\n",
    "print(myNewArray2)\n",
    "myarray3 = myNewArray * myNewArray2\n",
    "print(myarray3)"
   ]
  }
 ],
 "metadata": {
  "kernelspec": {
   "display_name": "Python 3 (ipykernel)",
   "language": "python",
   "name": "python3"
  },
  "language_info": {
   "codemirror_mode": {
    "name": "ipython",
    "version": 3
   },
   "file_extension": ".py",
   "mimetype": "text/x-python",
   "name": "python",
   "nbconvert_exporter": "python",
   "pygments_lexer": "ipython3",
   "version": "3.8.11"
  },
  "widgets": {
   "application/vnd.jupyter.widget-state+json": {
    "state": {},
    "version_major": 2,
    "version_minor": 0
   }
  }
 },
 "nbformat": 4,
 "nbformat_minor": 5
}
