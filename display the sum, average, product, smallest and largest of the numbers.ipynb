{
 "cells": [
  {
   "cell_type": "code",
   "execution_count": null,
   "id": "f1741d1e-dcdb-406a-8133-2e024fa81c78",
   "metadata": {},
   "outputs": [],
   "source": [
    "\"\"\"\n",
    "Write a script that inputs three integers from the user. \n",
    "Display the sum, average, product, smallest and largest of the numbers. \n",
    "Note that each of these is a reduction in functional-style programming.\n",
    "\"\"\""
   ]
  },
  {
   "cell_type": "code",
   "execution_count": null,
   "id": "7ffe79db-99f0-4961-9417-26e6080979ff",
   "metadata": {
    "tags": []
   },
   "outputs": [],
   "source": [
    "import math\n",
    "integers_list = [float(i) for i in input(\"Input three integers separated by comma.\").split(\",\")]\n",
    "print(f\"Sum is: {sum(integers_list)}\")\n",
    "print(f\"Average is: {sum(integers_list)/len(integers_list)}\")\n",
    "print(f\"Product is: {math.prod(integers_list)}\")\n",
    "print(f\"Smallest is: {min(integers_list)}\")\n",
    "print(f\"Largest is: {max(integers_list)}\")"
   ]
  }
 ],
 "metadata": {
  "kernelspec": {
   "display_name": "Python 3 (ipykernel)",
   "language": "python",
   "name": "python3"
  },
  "language_info": {
   "codemirror_mode": {
    "name": "ipython",
    "version": 3
   },
   "file_extension": ".py",
   "mimetype": "text/x-python",
   "name": "python",
   "nbconvert_exporter": "python",
   "pygments_lexer": "ipython3",
   "version": "3.8.11"
  },
  "widgets": {
   "application/vnd.jupyter.widget-state+json": {
    "state": {},
    "version_major": 2,
    "version_minor": 0
   }
  }
 },
 "nbformat": 4,
 "nbformat_minor": 5
}
