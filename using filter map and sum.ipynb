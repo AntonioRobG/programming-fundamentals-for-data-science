{
 "cells": [
  {
   "cell_type": "code",
   "execution_count": null,
   "id": "042e909a-f069-43b4-81fa-e71944949398",
   "metadata": {},
   "outputs": [],
   "source": [
    "\"\"\" \n",
    "Starting with a list containing 1 through 10, use filter, map and sum to calculate \n",
    "the total of the triples of the even integers from 2 through 10. \n",
    "Reimplement your code with list comprehensions rather than filter and map.\n",
    "\"\"\" "
   ]
  },
  {
   "cell_type": "code",
   "execution_count": null,
   "id": "9960a968-92f0-4204-bf8a-2f0ef55daf0c",
   "metadata": {},
   "outputs": [],
   "source": [
    "myList = [1,2,3,4,5,6,7,8,9,10]\n",
    "def in_even_and_more_than_one(arg):\n",
    "    if arg % 2 == 0 and arg>1:\n",
    "        return True\n",
    "    else:\n",
    "        return False\n",
    "    \n",
    "#a = sum(map(lambda i: i*3,filter(in_even_and_more_than_one,myList)))\n",
    "#a = sum([i*3 for i in myList if i % 2 == 0 and i>1])"
   ]
  }
 ],
 "metadata": {
  "kernelspec": {
   "display_name": "Python 3 (ipykernel)",
   "language": "python",
   "name": "python3"
  },
  "language_info": {
   "codemirror_mode": {
    "name": "ipython",
    "version": 3
   },
   "file_extension": ".py",
   "mimetype": "text/x-python",
   "name": "python",
   "nbconvert_exporter": "python",
   "pygments_lexer": "ipython3",
   "version": "3.8.11"
  },
  "widgets": {
   "application/vnd.jupyter.widget-state+json": {
    "state": {},
    "version_major": 2,
    "version_minor": 0
   }
  }
 },
 "nbformat": 4,
 "nbformat_minor": 5
}
