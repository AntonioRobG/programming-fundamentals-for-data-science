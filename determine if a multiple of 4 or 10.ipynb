{
 "cells": [
  {
   "cell_type": "code",
   "execution_count": null,
   "id": "e8d4f137-ae27-44d1-9700-c57dc55278d2",
   "metadata": {},
   "outputs": [],
   "source": [
    "\"\"\"\n",
    "Use if statements to determine if 1024 is a multiple of 4 and if 2 is a multiple of 10.\n",
    "\"\"\""
   ]
  },
  {
   "cell_type": "code",
   "execution_count": null,
   "id": "4dd2bbf7-a942-4126-ab8d-f908b2a37ba5",
   "metadata": {
    "tags": []
   },
   "outputs": [],
   "source": [
    "if (1024 % 4 == 0) or (2 % 10 == 0):\n",
    "    True\n",
    "else:\n",
    "    False"
   ]
  }
 ],
 "metadata": {
  "kernelspec": {
   "display_name": "Python 3 (ipykernel)",
   "language": "python",
   "name": "python3"
  },
  "language_info": {
   "codemirror_mode": {
    "name": "ipython",
    "version": 3
   },
   "file_extension": ".py",
   "mimetype": "text/x-python",
   "name": "python",
   "nbconvert_exporter": "python",
   "pygments_lexer": "ipython3",
   "version": "3.8.11"
  },
  "widgets": {
   "application/vnd.jupyter.widget-state+json": {
    "state": {},
    "version_major": 2,
    "version_minor": 0
   }
  }
 },
 "nbformat": 4,
 "nbformat_minor": 5
}
