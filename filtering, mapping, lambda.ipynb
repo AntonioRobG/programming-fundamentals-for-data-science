{
 "cells": [
  {
   "cell_type": "code",
   "execution_count": null,
   "id": "d5aac65a-9683-4987-9125-f6896a8efe08",
   "metadata": {},
   "outputs": [],
   "source": [
    "\"\"\"\n",
    "Create a list called numbers containing 1 through 15, then perforin the following tasks:\n",
    "a)\tUse the built-in function filter with a lambda to select only numbers’ even elements. Create a new list containing rhe result.\n",
    "b)\tUse the built-in function map with a lambda to square the values of numbers’ elements. Create a new list containing the result.\n",
    "c)\tFilter numbers’ even elements, then map them to their squares. Create a new list containing the result.\n",
    "\"\"\""
   ]
  },
  {
   "cell_type": "code",
   "execution_count": null,
   "id": "34070285-ad09-4261-a68b-716b299db7b9",
   "metadata": {
    "tags": []
   },
   "outputs": [],
   "source": [
    "numbers = list(range(1,16))\n",
    "print(list(filter(lambda i: i%2==0, numbers)))\n",
    "print(list(map(lambda i: i**2, numbers)))\n",
    "print(list(map(lambda i: i**2,filter(lambda i: i%2==0, numbers))))"
   ]
  }
 ],
 "metadata": {
  "kernelspec": {
   "display_name": "Python 3 (ipykernel)",
   "language": "python",
   "name": "python3"
  },
  "language_info": {
   "codemirror_mode": {
    "name": "ipython",
    "version": 3
   },
   "file_extension": ".py",
   "mimetype": "text/x-python",
   "name": "python",
   "nbconvert_exporter": "python",
   "pygments_lexer": "ipython3",
   "version": "3.8.11"
  },
  "widgets": {
   "application/vnd.jupyter.widget-state+json": {
    "state": {},
    "version_major": 2,
    "version_minor": 0
   }
  }
 },
 "nbformat": 4,
 "nbformat_minor": 5
}
